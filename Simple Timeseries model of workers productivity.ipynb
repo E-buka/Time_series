{
 "cells": [
  {
   "cell_type": "markdown",
   "id": "2026dd35-2257-4df3-b7a6-f9e657bce9a1",
   "metadata": {},
   "source": [
    "# Simple Timeseries Modelling \n",
    "In this timeseries modelling, I will be using dataset on workers' productivity in a garment industry to attempt to predict productivity.  The data is available from UCI repository"
   ]
  },
  {
   "cell_type": "code",
   "execution_count": 1,
   "id": "c7f53edc-522d-4118-97ad-3094fb095921",
   "metadata": {},
   "outputs": [],
   "source": [
    "import pandas as pd\n",
    "import numpy as np\n",
    "import matplotlib.pyplot as plt\n",
    "import seaborn as sns"
   ]
  },
  {
   "cell_type": "code",
   "execution_count": 2,
   "id": "9ad04f2b-52f3-4b40-9ea2-1b66c95a699c",
   "metadata": {},
   "outputs": [],
   "source": [
    "from ucimlrepo import fetch_ucirepo"
   ]
  },
  {
   "cell_type": "code",
   "execution_count": 3,
   "id": "c8bdab31-8fff-4f73-a3f3-0b11ac5ac7d2",
   "metadata": {},
   "outputs": [],
   "source": [
    "garment_productivity = fetch_ucirepo(id=597)\n",
    "X = garment_productivity.data.features\n",
    "y = garment_productivity.data.targets"
   ]
  },
  {
   "cell_type": "code",
   "execution_count": 4,
   "id": "b92df3b5-c791-4c78-b65c-8a5161b8527f",
   "metadata": {},
   "outputs": [
    {
     "data": {
      "text/plain": [
       "'The Garment Industry is one of the key examples of the industrial globalization of this modern era. It is a highly labour-intensive industry with lots of manual processes. Satisfying the huge global demand for garment products is mostly dependent on the production and delivery performance of the employees in the garment manufacturing companies. So, it is highly desirable among the decision makers in the garments industry to track, analyse and predict the productivity performance of the working teams in their factories. This dataset can be used for regression purpose by predicting the productivity range (0-1) or for classification purpose by transforming the productivity range (0-1) into different classes.'"
      ]
     },
     "metadata": {},
     "output_type": "display_data"
    }
   ],
   "source": [
    "display(garment_productivity.metadata.additional_info.summary)"
   ]
  },
  {
   "cell_type": "code",
   "execution_count": 5,
   "id": "d6de93fa-1b45-494b-b2d3-3218a754d7f6",
   "metadata": {},
   "outputs": [
    {
     "data": {
      "text/html": [
       "<div>\n",
       "<style scoped>\n",
       "    .dataframe tbody tr th:only-of-type {\n",
       "        vertical-align: middle;\n",
       "    }\n",
       "\n",
       "    .dataframe tbody tr th {\n",
       "        vertical-align: top;\n",
       "    }\n",
       "\n",
       "    .dataframe thead th {\n",
       "        text-align: right;\n",
       "    }\n",
       "</style>\n",
       "<table border=\"1\" class=\"dataframe\">\n",
       "  <thead>\n",
       "    <tr style=\"text-align: right;\">\n",
       "      <th></th>\n",
       "      <th>name</th>\n",
       "      <th>role</th>\n",
       "      <th>type</th>\n",
       "      <th>demographic</th>\n",
       "      <th>description</th>\n",
       "      <th>units</th>\n",
       "      <th>missing_values</th>\n",
       "    </tr>\n",
       "  </thead>\n",
       "  <tbody>\n",
       "    <tr>\n",
       "      <th>0</th>\n",
       "      <td>date</td>\n",
       "      <td>Feature</td>\n",
       "      <td>Date</td>\n",
       "      <td>None</td>\n",
       "      <td>None</td>\n",
       "      <td>None</td>\n",
       "      <td>no</td>\n",
       "    </tr>\n",
       "    <tr>\n",
       "      <th>1</th>\n",
       "      <td>quarter</td>\n",
       "      <td>Feature</td>\n",
       "      <td>Categorical</td>\n",
       "      <td>None</td>\n",
       "      <td>None</td>\n",
       "      <td>None</td>\n",
       "      <td>no</td>\n",
       "    </tr>\n",
       "    <tr>\n",
       "      <th>2</th>\n",
       "      <td>department</td>\n",
       "      <td>Feature</td>\n",
       "      <td>Categorical</td>\n",
       "      <td>None</td>\n",
       "      <td>None</td>\n",
       "      <td>None</td>\n",
       "      <td>no</td>\n",
       "    </tr>\n",
       "    <tr>\n",
       "      <th>3</th>\n",
       "      <td>day</td>\n",
       "      <td>Feature</td>\n",
       "      <td>Categorical</td>\n",
       "      <td>None</td>\n",
       "      <td>None</td>\n",
       "      <td>None</td>\n",
       "      <td>no</td>\n",
       "    </tr>\n",
       "    <tr>\n",
       "      <th>4</th>\n",
       "      <td>team</td>\n",
       "      <td>Feature</td>\n",
       "      <td>Integer</td>\n",
       "      <td>None</td>\n",
       "      <td>None</td>\n",
       "      <td>None</td>\n",
       "      <td>no</td>\n",
       "    </tr>\n",
       "    <tr>\n",
       "      <th>5</th>\n",
       "      <td>targeted_productivity</td>\n",
       "      <td>Feature</td>\n",
       "      <td>Continuous</td>\n",
       "      <td>None</td>\n",
       "      <td>None</td>\n",
       "      <td>None</td>\n",
       "      <td>no</td>\n",
       "    </tr>\n",
       "    <tr>\n",
       "      <th>6</th>\n",
       "      <td>smv</td>\n",
       "      <td>Feature</td>\n",
       "      <td>Continuous</td>\n",
       "      <td>None</td>\n",
       "      <td>None</td>\n",
       "      <td>None</td>\n",
       "      <td>no</td>\n",
       "    </tr>\n",
       "    <tr>\n",
       "      <th>7</th>\n",
       "      <td>wip</td>\n",
       "      <td>Feature</td>\n",
       "      <td>Integer</td>\n",
       "      <td>None</td>\n",
       "      <td>None</td>\n",
       "      <td>None</td>\n",
       "      <td>yes</td>\n",
       "    </tr>\n",
       "    <tr>\n",
       "      <th>8</th>\n",
       "      <td>over_time</td>\n",
       "      <td>Feature</td>\n",
       "      <td>Integer</td>\n",
       "      <td>None</td>\n",
       "      <td>None</td>\n",
       "      <td>None</td>\n",
       "      <td>no</td>\n",
       "    </tr>\n",
       "    <tr>\n",
       "      <th>9</th>\n",
       "      <td>incentive</td>\n",
       "      <td>Feature</td>\n",
       "      <td>Integer</td>\n",
       "      <td>None</td>\n",
       "      <td>None</td>\n",
       "      <td>BDT</td>\n",
       "      <td>no</td>\n",
       "    </tr>\n",
       "    <tr>\n",
       "      <th>10</th>\n",
       "      <td>idle_time</td>\n",
       "      <td>Feature</td>\n",
       "      <td>Integer</td>\n",
       "      <td>None</td>\n",
       "      <td>None</td>\n",
       "      <td>None</td>\n",
       "      <td>no</td>\n",
       "    </tr>\n",
       "    <tr>\n",
       "      <th>11</th>\n",
       "      <td>idle_men</td>\n",
       "      <td>Feature</td>\n",
       "      <td>Integer</td>\n",
       "      <td>None</td>\n",
       "      <td>None</td>\n",
       "      <td>None</td>\n",
       "      <td>no</td>\n",
       "    </tr>\n",
       "    <tr>\n",
       "      <th>12</th>\n",
       "      <td>no_of_style_change</td>\n",
       "      <td>Feature</td>\n",
       "      <td>Integer</td>\n",
       "      <td>None</td>\n",
       "      <td>None</td>\n",
       "      <td>None</td>\n",
       "      <td>no</td>\n",
       "    </tr>\n",
       "    <tr>\n",
       "      <th>13</th>\n",
       "      <td>no_of_workers</td>\n",
       "      <td>Feature</td>\n",
       "      <td>Integer</td>\n",
       "      <td>None</td>\n",
       "      <td>None</td>\n",
       "      <td>None</td>\n",
       "      <td>no</td>\n",
       "    </tr>\n",
       "    <tr>\n",
       "      <th>14</th>\n",
       "      <td>actual_productivity</td>\n",
       "      <td>Target</td>\n",
       "      <td>Continuous</td>\n",
       "      <td>None</td>\n",
       "      <td>None</td>\n",
       "      <td>None</td>\n",
       "      <td>no</td>\n",
       "    </tr>\n",
       "  </tbody>\n",
       "</table>\n",
       "</div>"
      ],
      "text/plain": [
       "                     name     role         type demographic description units  \\\n",
       "0                    date  Feature         Date        None        None  None   \n",
       "1                 quarter  Feature  Categorical        None        None  None   \n",
       "2              department  Feature  Categorical        None        None  None   \n",
       "3                     day  Feature  Categorical        None        None  None   \n",
       "4                    team  Feature      Integer        None        None  None   \n",
       "5   targeted_productivity  Feature   Continuous        None        None  None   \n",
       "6                     smv  Feature   Continuous        None        None  None   \n",
       "7                     wip  Feature      Integer        None        None  None   \n",
       "8               over_time  Feature      Integer        None        None  None   \n",
       "9               incentive  Feature      Integer        None        None   BDT   \n",
       "10              idle_time  Feature      Integer        None        None  None   \n",
       "11               idle_men  Feature      Integer        None        None  None   \n",
       "12     no_of_style_change  Feature      Integer        None        None  None   \n",
       "13          no_of_workers  Feature      Integer        None        None  None   \n",
       "14    actual_productivity   Target   Continuous        None        None  None   \n",
       "\n",
       "   missing_values  \n",
       "0              no  \n",
       "1              no  \n",
       "2              no  \n",
       "3              no  \n",
       "4              no  \n",
       "5              no  \n",
       "6              no  \n",
       "7             yes  \n",
       "8              no  \n",
       "9              no  \n",
       "10             no  \n",
       "11             no  \n",
       "12             no  \n",
       "13             no  \n",
       "14             no  "
      ]
     },
     "metadata": {},
     "output_type": "display_data"
    }
   ],
   "source": [
    "display(garment_productivity.variables)"
   ]
  },
  {
   "cell_type": "code",
   "execution_count": 6,
   "id": "84ef7040-ad88-4fe6-bf54-ac0de1c3208e",
   "metadata": {},
   "outputs": [
    {
     "name": "stdout",
     "output_type": "stream",
     "text": [
      "01\tdate\t\t\t:\tDate in MM-DD-YYYY\n",
      "02\tday\t\t\t:\tDay of the Week\n",
      "03\tquarter\t\t\t:\tA portion of the month. A month was divided into four quarters\n",
      "04\tdepartment\t\t:\tAssociated department with the instance\n",
      "05\tteam_no\t\t\t:\tAssociated team number with the instance\n",
      "06\tno_of_workers\t\t:\tNumber of workers in each team\n",
      "07\tno_of_style_change\t:\tNumber of changes in the style of a particular product\n",
      "08\ttargeted_productivity\t:\tTargeted productivity set by the Authority for each team for each day.\n",
      "09\tsmv\t\t\t:\tStandard Minute Value, it is the allocated time for a task\n",
      "10\twip\t\t\t:\tWork in progress. Includes the number of unfinished items for products\n",
      "11\tover_time\t\t:\tRepresents the amount of overtime by each team in minutes\n",
      "12\tincentive\t\t:\tRepresents the amount of financial incentive (in BDT) that enables or motivates a particular course of action.\n",
      "13\tidle_time\t\t:\tThe amount of time when the production was interrupted due to several reasons\n",
      "14\tidle_men\t\t:\tThe number of workers who were idle due to production interruption\n",
      "15\tactual_productivity\t:\tThe actual % of productivity that was delivered by the workers. It ranges from 0-1.\n",
      "\n"
     ]
    }
   ],
   "source": [
    "print(garment_productivity.metadata.additional_info.variable_info)"
   ]
  },
  {
   "cell_type": "code",
   "execution_count": 7,
   "id": "034ebe26-f883-4a40-b57b-63aa1b869786",
   "metadata": {},
   "outputs": [
    {
     "data": {
      "text/html": [
       "<div>\n",
       "<style scoped>\n",
       "    .dataframe tbody tr th:only-of-type {\n",
       "        vertical-align: middle;\n",
       "    }\n",
       "\n",
       "    .dataframe tbody tr th {\n",
       "        vertical-align: top;\n",
       "    }\n",
       "\n",
       "    .dataframe thead th {\n",
       "        text-align: right;\n",
       "    }\n",
       "</style>\n",
       "<table border=\"1\" class=\"dataframe\">\n",
       "  <thead>\n",
       "    <tr style=\"text-align: right;\">\n",
       "      <th></th>\n",
       "      <th>date</th>\n",
       "      <th>quarter</th>\n",
       "      <th>department</th>\n",
       "      <th>day</th>\n",
       "      <th>team</th>\n",
       "      <th>targeted_productivity</th>\n",
       "      <th>smv</th>\n",
       "      <th>wip</th>\n",
       "      <th>over_time</th>\n",
       "      <th>incentive</th>\n",
       "      <th>idle_time</th>\n",
       "      <th>idle_men</th>\n",
       "      <th>no_of_style_change</th>\n",
       "      <th>no_of_workers</th>\n",
       "    </tr>\n",
       "  </thead>\n",
       "  <tbody>\n",
       "    <tr>\n",
       "      <th>0</th>\n",
       "      <td>1/1/2015</td>\n",
       "      <td>Quarter1</td>\n",
       "      <td>sweing</td>\n",
       "      <td>Thursday</td>\n",
       "      <td>8</td>\n",
       "      <td>0.80</td>\n",
       "      <td>26.16</td>\n",
       "      <td>1108.0</td>\n",
       "      <td>7080</td>\n",
       "      <td>98</td>\n",
       "      <td>0.0</td>\n",
       "      <td>0</td>\n",
       "      <td>0</td>\n",
       "      <td>59.0</td>\n",
       "    </tr>\n",
       "    <tr>\n",
       "      <th>1</th>\n",
       "      <td>1/1/2015</td>\n",
       "      <td>Quarter1</td>\n",
       "      <td>finishing</td>\n",
       "      <td>Thursday</td>\n",
       "      <td>1</td>\n",
       "      <td>0.75</td>\n",
       "      <td>3.94</td>\n",
       "      <td>NaN</td>\n",
       "      <td>960</td>\n",
       "      <td>0</td>\n",
       "      <td>0.0</td>\n",
       "      <td>0</td>\n",
       "      <td>0</td>\n",
       "      <td>8.0</td>\n",
       "    </tr>\n",
       "    <tr>\n",
       "      <th>2</th>\n",
       "      <td>1/1/2015</td>\n",
       "      <td>Quarter1</td>\n",
       "      <td>sweing</td>\n",
       "      <td>Thursday</td>\n",
       "      <td>11</td>\n",
       "      <td>0.80</td>\n",
       "      <td>11.41</td>\n",
       "      <td>968.0</td>\n",
       "      <td>3660</td>\n",
       "      <td>50</td>\n",
       "      <td>0.0</td>\n",
       "      <td>0</td>\n",
       "      <td>0</td>\n",
       "      <td>30.5</td>\n",
       "    </tr>\n",
       "    <tr>\n",
       "      <th>3</th>\n",
       "      <td>1/1/2015</td>\n",
       "      <td>Quarter1</td>\n",
       "      <td>sweing</td>\n",
       "      <td>Thursday</td>\n",
       "      <td>12</td>\n",
       "      <td>0.80</td>\n",
       "      <td>11.41</td>\n",
       "      <td>968.0</td>\n",
       "      <td>3660</td>\n",
       "      <td>50</td>\n",
       "      <td>0.0</td>\n",
       "      <td>0</td>\n",
       "      <td>0</td>\n",
       "      <td>30.5</td>\n",
       "    </tr>\n",
       "    <tr>\n",
       "      <th>4</th>\n",
       "      <td>1/1/2015</td>\n",
       "      <td>Quarter1</td>\n",
       "      <td>sweing</td>\n",
       "      <td>Thursday</td>\n",
       "      <td>6</td>\n",
       "      <td>0.80</td>\n",
       "      <td>25.90</td>\n",
       "      <td>1170.0</td>\n",
       "      <td>1920</td>\n",
       "      <td>50</td>\n",
       "      <td>0.0</td>\n",
       "      <td>0</td>\n",
       "      <td>0</td>\n",
       "      <td>56.0</td>\n",
       "    </tr>\n",
       "  </tbody>\n",
       "</table>\n",
       "</div>"
      ],
      "text/plain": [
       "       date   quarter department       day  team  targeted_productivity  \\\n",
       "0  1/1/2015  Quarter1     sweing  Thursday     8                   0.80   \n",
       "1  1/1/2015  Quarter1  finishing  Thursday     1                   0.75   \n",
       "2  1/1/2015  Quarter1     sweing  Thursday    11                   0.80   \n",
       "3  1/1/2015  Quarter1     sweing  Thursday    12                   0.80   \n",
       "4  1/1/2015  Quarter1     sweing  Thursday     6                   0.80   \n",
       "\n",
       "     smv     wip  over_time  incentive  idle_time  idle_men  \\\n",
       "0  26.16  1108.0       7080         98        0.0         0   \n",
       "1   3.94     NaN        960          0        0.0         0   \n",
       "2  11.41   968.0       3660         50        0.0         0   \n",
       "3  11.41   968.0       3660         50        0.0         0   \n",
       "4  25.90  1170.0       1920         50        0.0         0   \n",
       "\n",
       "   no_of_style_change  no_of_workers  \n",
       "0                   0           59.0  \n",
       "1                   0            8.0  \n",
       "2                   0           30.5  \n",
       "3                   0           30.5  \n",
       "4                   0           56.0  "
      ]
     },
     "execution_count": 7,
     "metadata": {},
     "output_type": "execute_result"
    }
   ],
   "source": [
    "X.head()"
   ]
  },
  {
   "cell_type": "code",
   "execution_count": 8,
   "id": "20cb20cb-02ce-4348-bd59-16b9c3eaa92c",
   "metadata": {},
   "outputs": [
    {
     "data": {
      "text/html": [
       "<div>\n",
       "<style scoped>\n",
       "    .dataframe tbody tr th:only-of-type {\n",
       "        vertical-align: middle;\n",
       "    }\n",
       "\n",
       "    .dataframe tbody tr th {\n",
       "        vertical-align: top;\n",
       "    }\n",
       "\n",
       "    .dataframe thead th {\n",
       "        text-align: right;\n",
       "    }\n",
       "</style>\n",
       "<table border=\"1\" class=\"dataframe\">\n",
       "  <thead>\n",
       "    <tr style=\"text-align: right;\">\n",
       "      <th></th>\n",
       "      <th>actual_productivity</th>\n",
       "    </tr>\n",
       "  </thead>\n",
       "  <tbody>\n",
       "    <tr>\n",
       "      <th>0</th>\n",
       "      <td>0.940725</td>\n",
       "    </tr>\n",
       "    <tr>\n",
       "      <th>1</th>\n",
       "      <td>0.886500</td>\n",
       "    </tr>\n",
       "    <tr>\n",
       "      <th>2</th>\n",
       "      <td>0.800570</td>\n",
       "    </tr>\n",
       "    <tr>\n",
       "      <th>3</th>\n",
       "      <td>0.800570</td>\n",
       "    </tr>\n",
       "    <tr>\n",
       "      <th>4</th>\n",
       "      <td>0.800382</td>\n",
       "    </tr>\n",
       "  </tbody>\n",
       "</table>\n",
       "</div>"
      ],
      "text/plain": [
       "   actual_productivity\n",
       "0             0.940725\n",
       "1             0.886500\n",
       "2             0.800570\n",
       "3             0.800570\n",
       "4             0.800382"
      ]
     },
     "execution_count": 8,
     "metadata": {},
     "output_type": "execute_result"
    }
   ],
   "source": [
    "y.head()"
   ]
  },
  {
   "cell_type": "code",
   "execution_count": 9,
   "id": "ddb77969-bb18-438f-adbf-9a8c97e773a7",
   "metadata": {},
   "outputs": [
    {
     "data": {
      "text/html": [
       "<div>\n",
       "<style scoped>\n",
       "    .dataframe tbody tr th:only-of-type {\n",
       "        vertical-align: middle;\n",
       "    }\n",
       "\n",
       "    .dataframe tbody tr th {\n",
       "        vertical-align: top;\n",
       "    }\n",
       "\n",
       "    .dataframe thead th {\n",
       "        text-align: right;\n",
       "    }\n",
       "</style>\n",
       "<table border=\"1\" class=\"dataframe\">\n",
       "  <thead>\n",
       "    <tr style=\"text-align: right;\">\n",
       "      <th></th>\n",
       "      <th>date</th>\n",
       "      <th>quarter</th>\n",
       "      <th>department</th>\n",
       "      <th>day</th>\n",
       "      <th>team</th>\n",
       "      <th>targeted_productivity</th>\n",
       "      <th>smv</th>\n",
       "      <th>wip</th>\n",
       "      <th>over_time</th>\n",
       "      <th>incentive</th>\n",
       "      <th>idle_time</th>\n",
       "      <th>idle_men</th>\n",
       "      <th>no_of_style_change</th>\n",
       "      <th>no_of_workers</th>\n",
       "      <th>actual_productivity</th>\n",
       "    </tr>\n",
       "  </thead>\n",
       "  <tbody>\n",
       "    <tr>\n",
       "      <th>0</th>\n",
       "      <td>1/1/2015</td>\n",
       "      <td>Quarter1</td>\n",
       "      <td>sweing</td>\n",
       "      <td>Thursday</td>\n",
       "      <td>8</td>\n",
       "      <td>0.80</td>\n",
       "      <td>26.16</td>\n",
       "      <td>1108.0</td>\n",
       "      <td>7080</td>\n",
       "      <td>98</td>\n",
       "      <td>0.0</td>\n",
       "      <td>0</td>\n",
       "      <td>0</td>\n",
       "      <td>59.0</td>\n",
       "      <td>0.940725</td>\n",
       "    </tr>\n",
       "    <tr>\n",
       "      <th>1</th>\n",
       "      <td>1/1/2015</td>\n",
       "      <td>Quarter1</td>\n",
       "      <td>finishing</td>\n",
       "      <td>Thursday</td>\n",
       "      <td>1</td>\n",
       "      <td>0.75</td>\n",
       "      <td>3.94</td>\n",
       "      <td>NaN</td>\n",
       "      <td>960</td>\n",
       "      <td>0</td>\n",
       "      <td>0.0</td>\n",
       "      <td>0</td>\n",
       "      <td>0</td>\n",
       "      <td>8.0</td>\n",
       "      <td>0.886500</td>\n",
       "    </tr>\n",
       "    <tr>\n",
       "      <th>2</th>\n",
       "      <td>1/1/2015</td>\n",
       "      <td>Quarter1</td>\n",
       "      <td>sweing</td>\n",
       "      <td>Thursday</td>\n",
       "      <td>11</td>\n",
       "      <td>0.80</td>\n",
       "      <td>11.41</td>\n",
       "      <td>968.0</td>\n",
       "      <td>3660</td>\n",
       "      <td>50</td>\n",
       "      <td>0.0</td>\n",
       "      <td>0</td>\n",
       "      <td>0</td>\n",
       "      <td>30.5</td>\n",
       "      <td>0.800570</td>\n",
       "    </tr>\n",
       "    <tr>\n",
       "      <th>3</th>\n",
       "      <td>1/1/2015</td>\n",
       "      <td>Quarter1</td>\n",
       "      <td>sweing</td>\n",
       "      <td>Thursday</td>\n",
       "      <td>12</td>\n",
       "      <td>0.80</td>\n",
       "      <td>11.41</td>\n",
       "      <td>968.0</td>\n",
       "      <td>3660</td>\n",
       "      <td>50</td>\n",
       "      <td>0.0</td>\n",
       "      <td>0</td>\n",
       "      <td>0</td>\n",
       "      <td>30.5</td>\n",
       "      <td>0.800570</td>\n",
       "    </tr>\n",
       "    <tr>\n",
       "      <th>4</th>\n",
       "      <td>1/1/2015</td>\n",
       "      <td>Quarter1</td>\n",
       "      <td>sweing</td>\n",
       "      <td>Thursday</td>\n",
       "      <td>6</td>\n",
       "      <td>0.80</td>\n",
       "      <td>25.90</td>\n",
       "      <td>1170.0</td>\n",
       "      <td>1920</td>\n",
       "      <td>50</td>\n",
       "      <td>0.0</td>\n",
       "      <td>0</td>\n",
       "      <td>0</td>\n",
       "      <td>56.0</td>\n",
       "      <td>0.800382</td>\n",
       "    </tr>\n",
       "  </tbody>\n",
       "</table>\n",
       "</div>"
      ],
      "text/plain": [
       "       date   quarter department       day  team  targeted_productivity  \\\n",
       "0  1/1/2015  Quarter1     sweing  Thursday     8                   0.80   \n",
       "1  1/1/2015  Quarter1  finishing  Thursday     1                   0.75   \n",
       "2  1/1/2015  Quarter1     sweing  Thursday    11                   0.80   \n",
       "3  1/1/2015  Quarter1     sweing  Thursday    12                   0.80   \n",
       "4  1/1/2015  Quarter1     sweing  Thursday     6                   0.80   \n",
       "\n",
       "     smv     wip  over_time  incentive  idle_time  idle_men  \\\n",
       "0  26.16  1108.0       7080         98        0.0         0   \n",
       "1   3.94     NaN        960          0        0.0         0   \n",
       "2  11.41   968.0       3660         50        0.0         0   \n",
       "3  11.41   968.0       3660         50        0.0         0   \n",
       "4  25.90  1170.0       1920         50        0.0         0   \n",
       "\n",
       "   no_of_style_change  no_of_workers  actual_productivity  \n",
       "0                   0           59.0             0.940725  \n",
       "1                   0            8.0             0.886500  \n",
       "2                   0           30.5             0.800570  \n",
       "3                   0           30.5             0.800570  \n",
       "4                   0           56.0             0.800382  "
      ]
     },
     "execution_count": 9,
     "metadata": {},
     "output_type": "execute_result"
    }
   ],
   "source": [
    "df = pd.concat([X, y], axis=1)\n",
    "df.head()"
   ]
  },
  {
   "cell_type": "code",
   "execution_count": 10,
   "id": "27c619fb-feeb-48f9-a806-61f2c3419e9b",
   "metadata": {},
   "outputs": [
    {
     "data": {
      "text/plain": [
       "date                       0\n",
       "quarter                    0\n",
       "department                 0\n",
       "day                        0\n",
       "team                       0\n",
       "targeted_productivity      0\n",
       "smv                        0\n",
       "wip                      506\n",
       "over_time                  0\n",
       "incentive                  0\n",
       "idle_time                  0\n",
       "idle_men                   0\n",
       "no_of_style_change         0\n",
       "no_of_workers              0\n",
       "actual_productivity        0\n",
       "dtype: int64"
      ]
     },
     "execution_count": 10,
     "metadata": {},
     "output_type": "execute_result"
    }
   ],
   "source": [
    "df.isnull().sum()"
   ]
  },
  {
   "cell_type": "code",
   "execution_count": 11,
   "id": "65b40538-0d22-4a3a-ba7c-ad67977ee41e",
   "metadata": {},
   "outputs": [
    {
     "data": {
      "text/plain": [
       "(1197, 15)"
      ]
     },
     "execution_count": 11,
     "metadata": {},
     "output_type": "execute_result"
    }
   ],
   "source": [
    "df.shape"
   ]
  },
  {
   "cell_type": "markdown",
   "id": "dcd017d6-b679-48ba-ba4f-c396640edd57",
   "metadata": {},
   "source": [
    "**Missing Values**  \n",
    "Based on the columns information details above for the features, `wip` represents work in progress. It is the only feature with null values. By the description of the column, it can be interpreted that the null values means that there is no work in progress. There is no evidence to this however, it could still be that these values were not recorded at the time. But for the purposes of this time series model, i will fill these as zeros.  To support this proposition, i will only view the sorted values of the column to ensure that there are no zeros recorded in the column. If there are zeros in the column, it would absolutely mean that these values were not recorded but if there is none, then it will further support the essence of filling them with zeros"
   ]
  },
  {
   "cell_type": "code",
   "execution_count": 12,
   "id": "99f566c6-3d3c-4e9c-99fb-947f731500d2",
   "metadata": {},
   "outputs": [
    {
     "data": {
      "text/plain": [
       "798     7.0\n",
       "747    10.0\n",
       "728    11.0\n",
       "782    12.0\n",
       "703    13.0\n",
       "Name: wip, dtype: float64"
      ]
     },
     "execution_count": 12,
     "metadata": {},
     "output_type": "execute_result"
    }
   ],
   "source": [
    "# viewing first 5 sorted values\n",
    "df['wip'].sort_values()[:5]"
   ]
  },
  {
   "cell_type": "code",
   "execution_count": 13,
   "id": "507c56c1-165d-419d-85c0-20de633a3082",
   "metadata": {},
   "outputs": [],
   "source": [
    "### filling null values\n",
    "df.fillna(0, inplace=True)"
   ]
  },
  {
   "cell_type": "code",
   "execution_count": 14,
   "id": "9ec6c539-0ce2-429e-bcf6-49502913712d",
   "metadata": {},
   "outputs": [
    {
     "data": {
      "text/plain": [
       "date                     0\n",
       "quarter                  0\n",
       "department               0\n",
       "day                      0\n",
       "team                     0\n",
       "targeted_productivity    0\n",
       "smv                      0\n",
       "wip                      0\n",
       "over_time                0\n",
       "incentive                0\n",
       "idle_time                0\n",
       "idle_men                 0\n",
       "no_of_style_change       0\n",
       "no_of_workers            0\n",
       "actual_productivity      0\n",
       "dtype: int64"
      ]
     },
     "execution_count": 14,
     "metadata": {},
     "output_type": "execute_result"
    }
   ],
   "source": [
    "df.isnull().sum()"
   ]
  },
  {
   "cell_type": "code",
   "execution_count": 15,
   "id": "fd5fd625-57ad-4548-8fa1-0ffd22fe7a89",
   "metadata": {},
   "outputs": [
    {
     "data": {
      "text/plain": [
       "1182    0.0\n",
       "1173    0.0\n",
       "1174    0.0\n",
       "1143    0.0\n",
       "1148    0.0\n",
       "Name: wip, dtype: float64"
      ]
     },
     "execution_count": 15,
     "metadata": {},
     "output_type": "execute_result"
    }
   ],
   "source": [
    "df['wip'].sort_values()[:5]"
   ]
  },
  {
   "cell_type": "code",
   "execution_count": 16,
   "id": "7fa53588-ffb2-436f-96be-8a3081b5835c",
   "metadata": {},
   "outputs": [],
   "source": [
    "df = df.set_index('date')"
   ]
  },
  {
   "cell_type": "code",
   "execution_count": 17,
   "id": "4b8b4ce9-9ffc-4d73-ae19-9b050bfbd3d1",
   "metadata": {},
   "outputs": [
    {
     "data": {
      "text/html": [
       "<div>\n",
       "<style scoped>\n",
       "    .dataframe tbody tr th:only-of-type {\n",
       "        vertical-align: middle;\n",
       "    }\n",
       "\n",
       "    .dataframe tbody tr th {\n",
       "        vertical-align: top;\n",
       "    }\n",
       "\n",
       "    .dataframe thead th {\n",
       "        text-align: right;\n",
       "    }\n",
       "</style>\n",
       "<table border=\"1\" class=\"dataframe\">\n",
       "  <thead>\n",
       "    <tr style=\"text-align: right;\">\n",
       "      <th></th>\n",
       "      <th>quarter</th>\n",
       "      <th>department</th>\n",
       "      <th>day</th>\n",
       "      <th>team</th>\n",
       "      <th>targeted_productivity</th>\n",
       "      <th>smv</th>\n",
       "      <th>wip</th>\n",
       "      <th>over_time</th>\n",
       "      <th>incentive</th>\n",
       "      <th>idle_time</th>\n",
       "      <th>idle_men</th>\n",
       "      <th>no_of_style_change</th>\n",
       "      <th>no_of_workers</th>\n",
       "      <th>actual_productivity</th>\n",
       "    </tr>\n",
       "    <tr>\n",
       "      <th>date</th>\n",
       "      <th></th>\n",
       "      <th></th>\n",
       "      <th></th>\n",
       "      <th></th>\n",
       "      <th></th>\n",
       "      <th></th>\n",
       "      <th></th>\n",
       "      <th></th>\n",
       "      <th></th>\n",
       "      <th></th>\n",
       "      <th></th>\n",
       "      <th></th>\n",
       "      <th></th>\n",
       "      <th></th>\n",
       "    </tr>\n",
       "  </thead>\n",
       "  <tbody>\n",
       "    <tr>\n",
       "      <th>1/1/2015</th>\n",
       "      <td>Quarter1</td>\n",
       "      <td>sweing</td>\n",
       "      <td>Thursday</td>\n",
       "      <td>8</td>\n",
       "      <td>0.80</td>\n",
       "      <td>26.16</td>\n",
       "      <td>1108.0</td>\n",
       "      <td>7080</td>\n",
       "      <td>98</td>\n",
       "      <td>0.0</td>\n",
       "      <td>0</td>\n",
       "      <td>0</td>\n",
       "      <td>59.0</td>\n",
       "      <td>0.940725</td>\n",
       "    </tr>\n",
       "    <tr>\n",
       "      <th>1/1/2015</th>\n",
       "      <td>Quarter1</td>\n",
       "      <td>finishing</td>\n",
       "      <td>Thursday</td>\n",
       "      <td>1</td>\n",
       "      <td>0.75</td>\n",
       "      <td>3.94</td>\n",
       "      <td>0.0</td>\n",
       "      <td>960</td>\n",
       "      <td>0</td>\n",
       "      <td>0.0</td>\n",
       "      <td>0</td>\n",
       "      <td>0</td>\n",
       "      <td>8.0</td>\n",
       "      <td>0.886500</td>\n",
       "    </tr>\n",
       "    <tr>\n",
       "      <th>1/1/2015</th>\n",
       "      <td>Quarter1</td>\n",
       "      <td>sweing</td>\n",
       "      <td>Thursday</td>\n",
       "      <td>11</td>\n",
       "      <td>0.80</td>\n",
       "      <td>11.41</td>\n",
       "      <td>968.0</td>\n",
       "      <td>3660</td>\n",
       "      <td>50</td>\n",
       "      <td>0.0</td>\n",
       "      <td>0</td>\n",
       "      <td>0</td>\n",
       "      <td>30.5</td>\n",
       "      <td>0.800570</td>\n",
       "    </tr>\n",
       "    <tr>\n",
       "      <th>1/1/2015</th>\n",
       "      <td>Quarter1</td>\n",
       "      <td>sweing</td>\n",
       "      <td>Thursday</td>\n",
       "      <td>12</td>\n",
       "      <td>0.80</td>\n",
       "      <td>11.41</td>\n",
       "      <td>968.0</td>\n",
       "      <td>3660</td>\n",
       "      <td>50</td>\n",
       "      <td>0.0</td>\n",
       "      <td>0</td>\n",
       "      <td>0</td>\n",
       "      <td>30.5</td>\n",
       "      <td>0.800570</td>\n",
       "    </tr>\n",
       "    <tr>\n",
       "      <th>1/1/2015</th>\n",
       "      <td>Quarter1</td>\n",
       "      <td>sweing</td>\n",
       "      <td>Thursday</td>\n",
       "      <td>6</td>\n",
       "      <td>0.80</td>\n",
       "      <td>25.90</td>\n",
       "      <td>1170.0</td>\n",
       "      <td>1920</td>\n",
       "      <td>50</td>\n",
       "      <td>0.0</td>\n",
       "      <td>0</td>\n",
       "      <td>0</td>\n",
       "      <td>56.0</td>\n",
       "      <td>0.800382</td>\n",
       "    </tr>\n",
       "  </tbody>\n",
       "</table>\n",
       "</div>"
      ],
      "text/plain": [
       "           quarter department       day  team  targeted_productivity    smv  \\\n",
       "date                                                                          \n",
       "1/1/2015  Quarter1     sweing  Thursday     8                   0.80  26.16   \n",
       "1/1/2015  Quarter1  finishing  Thursday     1                   0.75   3.94   \n",
       "1/1/2015  Quarter1     sweing  Thursday    11                   0.80  11.41   \n",
       "1/1/2015  Quarter1     sweing  Thursday    12                   0.80  11.41   \n",
       "1/1/2015  Quarter1     sweing  Thursday     6                   0.80  25.90   \n",
       "\n",
       "             wip  over_time  incentive  idle_time  idle_men  \\\n",
       "date                                                          \n",
       "1/1/2015  1108.0       7080         98        0.0         0   \n",
       "1/1/2015     0.0        960          0        0.0         0   \n",
       "1/1/2015   968.0       3660         50        0.0         0   \n",
       "1/1/2015   968.0       3660         50        0.0         0   \n",
       "1/1/2015  1170.0       1920         50        0.0         0   \n",
       "\n",
       "          no_of_style_change  no_of_workers  actual_productivity  \n",
       "date                                                              \n",
       "1/1/2015                   0           59.0             0.940725  \n",
       "1/1/2015                   0            8.0             0.886500  \n",
       "1/1/2015                   0           30.5             0.800570  \n",
       "1/1/2015                   0           30.5             0.800570  \n",
       "1/1/2015                   0           56.0             0.800382  "
      ]
     },
     "execution_count": 17,
     "metadata": {},
     "output_type": "execute_result"
    }
   ],
   "source": [
    "df.head()"
   ]
  },
  {
   "cell_type": "code",
   "execution_count": 18,
   "id": "950e4a87-7d67-4116-b31b-ce4fd3638455",
   "metadata": {},
   "outputs": [],
   "source": [
    "df.index = pd.to_datetime(df.index)"
   ]
  },
  {
   "cell_type": "code",
   "execution_count": 19,
   "id": "8bb82c5e-16d1-4c9d-98a0-fd7be7b8ec0e",
   "metadata": {},
   "outputs": [
    {
     "data": {
      "text/plain": [
       "DatetimeIndex(['2015-01-01', '2015-01-01', '2015-01-01', '2015-01-01',\n",
       "               '2015-01-01', '2015-01-01', '2015-01-01', '2015-01-01',\n",
       "               '2015-01-01', '2015-01-01',\n",
       "               ...\n",
       "               '2015-03-11', '2015-03-11', '2015-03-11', '2015-03-11',\n",
       "               '2015-03-11', '2015-03-11', '2015-03-11', '2015-03-11',\n",
       "               '2015-03-11', '2015-03-11'],\n",
       "              dtype='datetime64[ns]', name='date', length=1197, freq=None)"
      ]
     },
     "execution_count": 19,
     "metadata": {},
     "output_type": "execute_result"
    }
   ],
   "source": [
    "df.index"
   ]
  },
  {
   "cell_type": "code",
   "execution_count": 20,
   "id": "e30b5949-e221-4b0d-b6b8-914db039b669",
   "metadata": {},
   "outputs": [
    {
     "data": {
      "text/plain": [
       "array(['Thursday', 'Saturday', 'Sunday', 'Monday', 'Tuesday', 'Wednesday'],\n",
       "      dtype=object)"
      ]
     },
     "metadata": {},
     "output_type": "display_data"
    },
    {
     "data": {
      "text/plain": [
       "array(['Quarter1', 'Quarter2', 'Quarter3', 'Quarter4', 'Quarter5'],\n",
       "      dtype=object)"
      ]
     },
     "execution_count": 20,
     "metadata": {},
     "output_type": "execute_result"
    }
   ],
   "source": [
    "display(df['day'].unique())\n",
    "df['quarter'].unique()"
   ]
  },
  {
   "cell_type": "code",
   "execution_count": 21,
   "id": "3592235c-33c1-4a1b-9b65-9fbbd668a637",
   "metadata": {},
   "outputs": [],
   "source": [
    "df['quarter'] = df['quarter'].str[-1].astype('int64')\n",
    "### REMEBER THAT FROM THE DESCRIPTION ABOVE, A MONTH IS DIVIDED INTO FOUR QUARTERS. IT DOES NOT REPRESENT YEAR BUT MONTH"
   ]
  },
  {
   "cell_type": "code",
   "execution_count": 22,
   "id": "3d56e530-05b8-4a4f-98ab-0d53c5f1f6ff",
   "metadata": {},
   "outputs": [],
   "source": [
    "### Ordinal encoding of the day and quarter columns\n",
    "#There are no fridays in the day column\n",
    "day_cat = ['Monday', 'Tuesday', 'Wednesday', 'Thursday', 'Friday', 'Saturday', 'Sunday']\n",
    "\n",
    "from sklearn.preprocessing import OrdinalEncoder\n",
    "\n",
    "ord_enc = OrdinalEncoder(categories = [day_cat], dtype='int64')\n",
    "df['day'] = ord_enc.fit_transform(df[['day']])"
   ]
  },
  {
   "cell_type": "code",
   "execution_count": 23,
   "id": "cce91ea6-f125-4d70-a647-929b30cf0e1e",
   "metadata": {},
   "outputs": [
    {
     "data": {
      "text/html": [
       "<div>\n",
       "<style scoped>\n",
       "    .dataframe tbody tr th:only-of-type {\n",
       "        vertical-align: middle;\n",
       "    }\n",
       "\n",
       "    .dataframe tbody tr th {\n",
       "        vertical-align: top;\n",
       "    }\n",
       "\n",
       "    .dataframe thead th {\n",
       "        text-align: right;\n",
       "    }\n",
       "</style>\n",
       "<table border=\"1\" class=\"dataframe\">\n",
       "  <thead>\n",
       "    <tr style=\"text-align: right;\">\n",
       "      <th></th>\n",
       "      <th>quarter</th>\n",
       "      <th>department</th>\n",
       "      <th>day</th>\n",
       "      <th>team</th>\n",
       "      <th>targeted_productivity</th>\n",
       "      <th>smv</th>\n",
       "      <th>wip</th>\n",
       "      <th>over_time</th>\n",
       "      <th>incentive</th>\n",
       "      <th>idle_time</th>\n",
       "      <th>idle_men</th>\n",
       "      <th>no_of_style_change</th>\n",
       "      <th>no_of_workers</th>\n",
       "      <th>actual_productivity</th>\n",
       "    </tr>\n",
       "    <tr>\n",
       "      <th>date</th>\n",
       "      <th></th>\n",
       "      <th></th>\n",
       "      <th></th>\n",
       "      <th></th>\n",
       "      <th></th>\n",
       "      <th></th>\n",
       "      <th></th>\n",
       "      <th></th>\n",
       "      <th></th>\n",
       "      <th></th>\n",
       "      <th></th>\n",
       "      <th></th>\n",
       "      <th></th>\n",
       "      <th></th>\n",
       "    </tr>\n",
       "  </thead>\n",
       "  <tbody>\n",
       "    <tr>\n",
       "      <th>2015-01-01</th>\n",
       "      <td>1</td>\n",
       "      <td>sweing</td>\n",
       "      <td>3</td>\n",
       "      <td>8</td>\n",
       "      <td>0.80</td>\n",
       "      <td>26.16</td>\n",
       "      <td>1108.0</td>\n",
       "      <td>7080</td>\n",
       "      <td>98</td>\n",
       "      <td>0.0</td>\n",
       "      <td>0</td>\n",
       "      <td>0</td>\n",
       "      <td>59.0</td>\n",
       "      <td>0.940725</td>\n",
       "    </tr>\n",
       "    <tr>\n",
       "      <th>2015-01-01</th>\n",
       "      <td>1</td>\n",
       "      <td>finishing</td>\n",
       "      <td>3</td>\n",
       "      <td>1</td>\n",
       "      <td>0.75</td>\n",
       "      <td>3.94</td>\n",
       "      <td>0.0</td>\n",
       "      <td>960</td>\n",
       "      <td>0</td>\n",
       "      <td>0.0</td>\n",
       "      <td>0</td>\n",
       "      <td>0</td>\n",
       "      <td>8.0</td>\n",
       "      <td>0.886500</td>\n",
       "    </tr>\n",
       "    <tr>\n",
       "      <th>2015-01-01</th>\n",
       "      <td>1</td>\n",
       "      <td>sweing</td>\n",
       "      <td>3</td>\n",
       "      <td>11</td>\n",
       "      <td>0.80</td>\n",
       "      <td>11.41</td>\n",
       "      <td>968.0</td>\n",
       "      <td>3660</td>\n",
       "      <td>50</td>\n",
       "      <td>0.0</td>\n",
       "      <td>0</td>\n",
       "      <td>0</td>\n",
       "      <td>30.5</td>\n",
       "      <td>0.800570</td>\n",
       "    </tr>\n",
       "    <tr>\n",
       "      <th>2015-01-01</th>\n",
       "      <td>1</td>\n",
       "      <td>sweing</td>\n",
       "      <td>3</td>\n",
       "      <td>12</td>\n",
       "      <td>0.80</td>\n",
       "      <td>11.41</td>\n",
       "      <td>968.0</td>\n",
       "      <td>3660</td>\n",
       "      <td>50</td>\n",
       "      <td>0.0</td>\n",
       "      <td>0</td>\n",
       "      <td>0</td>\n",
       "      <td>30.5</td>\n",
       "      <td>0.800570</td>\n",
       "    </tr>\n",
       "    <tr>\n",
       "      <th>2015-01-01</th>\n",
       "      <td>1</td>\n",
       "      <td>sweing</td>\n",
       "      <td>3</td>\n",
       "      <td>6</td>\n",
       "      <td>0.80</td>\n",
       "      <td>25.90</td>\n",
       "      <td>1170.0</td>\n",
       "      <td>1920</td>\n",
       "      <td>50</td>\n",
       "      <td>0.0</td>\n",
       "      <td>0</td>\n",
       "      <td>0</td>\n",
       "      <td>56.0</td>\n",
       "      <td>0.800382</td>\n",
       "    </tr>\n",
       "  </tbody>\n",
       "</table>\n",
       "</div>"
      ],
      "text/plain": [
       "            quarter department  day  team  targeted_productivity    smv  \\\n",
       "date                                                                      \n",
       "2015-01-01        1     sweing    3     8                   0.80  26.16   \n",
       "2015-01-01        1  finishing    3     1                   0.75   3.94   \n",
       "2015-01-01        1     sweing    3    11                   0.80  11.41   \n",
       "2015-01-01        1     sweing    3    12                   0.80  11.41   \n",
       "2015-01-01        1     sweing    3     6                   0.80  25.90   \n",
       "\n",
       "               wip  over_time  incentive  idle_time  idle_men  \\\n",
       "date                                                            \n",
       "2015-01-01  1108.0       7080         98        0.0         0   \n",
       "2015-01-01     0.0        960          0        0.0         0   \n",
       "2015-01-01   968.0       3660         50        0.0         0   \n",
       "2015-01-01   968.0       3660         50        0.0         0   \n",
       "2015-01-01  1170.0       1920         50        0.0         0   \n",
       "\n",
       "            no_of_style_change  no_of_workers  actual_productivity  \n",
       "date                                                                \n",
       "2015-01-01                   0           59.0             0.940725  \n",
       "2015-01-01                   0            8.0             0.886500  \n",
       "2015-01-01                   0           30.5             0.800570  \n",
       "2015-01-01                   0           30.5             0.800570  \n",
       "2015-01-01                   0           56.0             0.800382  "
      ]
     },
     "execution_count": 23,
     "metadata": {},
     "output_type": "execute_result"
    }
   ],
   "source": [
    "df.head()"
   ]
  },
  {
   "cell_type": "code",
   "execution_count": 24,
   "id": "4431bf2c-f573-4058-9a77-29448ad8e3f6",
   "metadata": {},
   "outputs": [
    {
     "data": {
      "text/plain": [
       "array(['sweing', 'finishing'], dtype=object)"
      ]
     },
     "execution_count": 24,
     "metadata": {},
     "output_type": "execute_result"
    }
   ],
   "source": [
    "df['department'].unique()"
   ]
  },
  {
   "cell_type": "code",
   "execution_count": 25,
   "id": "01ffb7ba-88e9-4631-b61f-2b302009b146",
   "metadata": {},
   "outputs": [
    {
     "data": {
      "text/html": [
       "<div>\n",
       "<style scoped>\n",
       "    .dataframe tbody tr th:only-of-type {\n",
       "        vertical-align: middle;\n",
       "    }\n",
       "\n",
       "    .dataframe tbody tr th {\n",
       "        vertical-align: top;\n",
       "    }\n",
       "\n",
       "    .dataframe thead th {\n",
       "        text-align: right;\n",
       "    }\n",
       "</style>\n",
       "<table border=\"1\" class=\"dataframe\">\n",
       "  <thead>\n",
       "    <tr style=\"text-align: right;\">\n",
       "      <th></th>\n",
       "      <th>quarter</th>\n",
       "      <th>day</th>\n",
       "      <th>team</th>\n",
       "      <th>targeted_productivity</th>\n",
       "      <th>smv</th>\n",
       "      <th>wip</th>\n",
       "      <th>over_time</th>\n",
       "      <th>incentive</th>\n",
       "      <th>idle_time</th>\n",
       "      <th>idle_men</th>\n",
       "      <th>no_of_style_change</th>\n",
       "      <th>no_of_workers</th>\n",
       "      <th>actual_productivity</th>\n",
       "      <th>dept_finishing</th>\n",
       "      <th>dept_sweing</th>\n",
       "    </tr>\n",
       "    <tr>\n",
       "      <th>date</th>\n",
       "      <th></th>\n",
       "      <th></th>\n",
       "      <th></th>\n",
       "      <th></th>\n",
       "      <th></th>\n",
       "      <th></th>\n",
       "      <th></th>\n",
       "      <th></th>\n",
       "      <th></th>\n",
       "      <th></th>\n",
       "      <th></th>\n",
       "      <th></th>\n",
       "      <th></th>\n",
       "      <th></th>\n",
       "      <th></th>\n",
       "    </tr>\n",
       "  </thead>\n",
       "  <tbody>\n",
       "    <tr>\n",
       "      <th>2015-01-01</th>\n",
       "      <td>1</td>\n",
       "      <td>3</td>\n",
       "      <td>8</td>\n",
       "      <td>0.80</td>\n",
       "      <td>26.16</td>\n",
       "      <td>1108.0</td>\n",
       "      <td>7080</td>\n",
       "      <td>98</td>\n",
       "      <td>0.0</td>\n",
       "      <td>0</td>\n",
       "      <td>0</td>\n",
       "      <td>59.0</td>\n",
       "      <td>0.940725</td>\n",
       "      <td>0</td>\n",
       "      <td>1</td>\n",
       "    </tr>\n",
       "    <tr>\n",
       "      <th>2015-01-01</th>\n",
       "      <td>1</td>\n",
       "      <td>3</td>\n",
       "      <td>1</td>\n",
       "      <td>0.75</td>\n",
       "      <td>3.94</td>\n",
       "      <td>0.0</td>\n",
       "      <td>960</td>\n",
       "      <td>0</td>\n",
       "      <td>0.0</td>\n",
       "      <td>0</td>\n",
       "      <td>0</td>\n",
       "      <td>8.0</td>\n",
       "      <td>0.886500</td>\n",
       "      <td>1</td>\n",
       "      <td>0</td>\n",
       "    </tr>\n",
       "    <tr>\n",
       "      <th>2015-01-01</th>\n",
       "      <td>1</td>\n",
       "      <td>3</td>\n",
       "      <td>11</td>\n",
       "      <td>0.80</td>\n",
       "      <td>11.41</td>\n",
       "      <td>968.0</td>\n",
       "      <td>3660</td>\n",
       "      <td>50</td>\n",
       "      <td>0.0</td>\n",
       "      <td>0</td>\n",
       "      <td>0</td>\n",
       "      <td>30.5</td>\n",
       "      <td>0.800570</td>\n",
       "      <td>0</td>\n",
       "      <td>1</td>\n",
       "    </tr>\n",
       "    <tr>\n",
       "      <th>2015-01-01</th>\n",
       "      <td>1</td>\n",
       "      <td>3</td>\n",
       "      <td>12</td>\n",
       "      <td>0.80</td>\n",
       "      <td>11.41</td>\n",
       "      <td>968.0</td>\n",
       "      <td>3660</td>\n",
       "      <td>50</td>\n",
       "      <td>0.0</td>\n",
       "      <td>0</td>\n",
       "      <td>0</td>\n",
       "      <td>30.5</td>\n",
       "      <td>0.800570</td>\n",
       "      <td>0</td>\n",
       "      <td>1</td>\n",
       "    </tr>\n",
       "    <tr>\n",
       "      <th>2015-01-01</th>\n",
       "      <td>1</td>\n",
       "      <td>3</td>\n",
       "      <td>6</td>\n",
       "      <td>0.80</td>\n",
       "      <td>25.90</td>\n",
       "      <td>1170.0</td>\n",
       "      <td>1920</td>\n",
       "      <td>50</td>\n",
       "      <td>0.0</td>\n",
       "      <td>0</td>\n",
       "      <td>0</td>\n",
       "      <td>56.0</td>\n",
       "      <td>0.800382</td>\n",
       "      <td>0</td>\n",
       "      <td>1</td>\n",
       "    </tr>\n",
       "  </tbody>\n",
       "</table>\n",
       "</div>"
      ],
      "text/plain": [
       "            quarter  day  team  targeted_productivity    smv     wip  \\\n",
       "date                                                                   \n",
       "2015-01-01        1    3     8                   0.80  26.16  1108.0   \n",
       "2015-01-01        1    3     1                   0.75   3.94     0.0   \n",
       "2015-01-01        1    3    11                   0.80  11.41   968.0   \n",
       "2015-01-01        1    3    12                   0.80  11.41   968.0   \n",
       "2015-01-01        1    3     6                   0.80  25.90  1170.0   \n",
       "\n",
       "            over_time  incentive  idle_time  idle_men  no_of_style_change  \\\n",
       "date                                                                        \n",
       "2015-01-01       7080         98        0.0         0                   0   \n",
       "2015-01-01        960          0        0.0         0                   0   \n",
       "2015-01-01       3660         50        0.0         0                   0   \n",
       "2015-01-01       3660         50        0.0         0                   0   \n",
       "2015-01-01       1920         50        0.0         0                   0   \n",
       "\n",
       "            no_of_workers  actual_productivity  dept_finishing  dept_sweing  \n",
       "date                                                                         \n",
       "2015-01-01           59.0             0.940725               0            1  \n",
       "2015-01-01            8.0             0.886500               1            0  \n",
       "2015-01-01           30.5             0.800570               0            1  \n",
       "2015-01-01           30.5             0.800570               0            1  \n",
       "2015-01-01           56.0             0.800382               0            1  "
      ]
     },
     "execution_count": 25,
     "metadata": {},
     "output_type": "execute_result"
    }
   ],
   "source": [
    "### converting the deparment column to onehotencoding\n",
    "df = pd.get_dummies(df, prefix='dept', columns=['department'], dtype='int64')\n",
    "df.head()"
   ]
  },
  {
   "cell_type": "markdown",
   "id": "4ad2304b-e8cf-4bef-b45e-fd18fa9fc517",
   "metadata": {},
   "source": [
    "### Simple TimeSeries Modelling\n",
    "The data has two unique departments and multiple teams in each department. These could be taken into account to model each department by grouping or clustering.  However, for the purposes of keeping this timeseries simple, i will proceed with resampling the data by day which would then sample the entire department and teams as a single day data. In another notebook, i will be expanding this timeseries to account for these groupings."
   ]
  },
  {
   "cell_type": "code",
   "execution_count": 26,
   "id": "5170be9b-3525-493e-82ee-deb2a9f27efb",
   "metadata": {},
   "outputs": [],
   "source": [
    "df_day_mean = df.resample('D').mean()"
   ]
  },
  {
   "cell_type": "code",
   "execution_count": 27,
   "id": "752fdc6d-d0cc-470a-834b-31ba07dfd9e8",
   "metadata": {},
   "outputs": [
    {
     "data": {
      "text/html": [
       "<div>\n",
       "<style scoped>\n",
       "    .dataframe tbody tr th:only-of-type {\n",
       "        vertical-align: middle;\n",
       "    }\n",
       "\n",
       "    .dataframe tbody tr th {\n",
       "        vertical-align: top;\n",
       "    }\n",
       "\n",
       "    .dataframe thead th {\n",
       "        text-align: right;\n",
       "    }\n",
       "</style>\n",
       "<table border=\"1\" class=\"dataframe\">\n",
       "  <thead>\n",
       "    <tr style=\"text-align: right;\">\n",
       "      <th></th>\n",
       "      <th>quarter</th>\n",
       "      <th>day</th>\n",
       "      <th>team</th>\n",
       "      <th>targeted_productivity</th>\n",
       "      <th>smv</th>\n",
       "      <th>wip</th>\n",
       "      <th>over_time</th>\n",
       "      <th>incentive</th>\n",
       "      <th>idle_time</th>\n",
       "      <th>idle_men</th>\n",
       "      <th>no_of_style_change</th>\n",
       "      <th>no_of_workers</th>\n",
       "      <th>actual_productivity</th>\n",
       "      <th>dept_finishing</th>\n",
       "      <th>dept_sweing</th>\n",
       "    </tr>\n",
       "    <tr>\n",
       "      <th>date</th>\n",
       "      <th></th>\n",
       "      <th></th>\n",
       "      <th></th>\n",
       "      <th></th>\n",
       "      <th></th>\n",
       "      <th></th>\n",
       "      <th></th>\n",
       "      <th></th>\n",
       "      <th></th>\n",
       "      <th></th>\n",
       "      <th></th>\n",
       "      <th></th>\n",
       "      <th></th>\n",
       "      <th></th>\n",
       "      <th></th>\n",
       "    </tr>\n",
       "  </thead>\n",
       "  <tbody>\n",
       "    <tr>\n",
       "      <th>2015-01-01</th>\n",
       "      <td>1.0</td>\n",
       "      <td>3.0</td>\n",
       "      <td>6.368421</td>\n",
       "      <td>0.752632</td>\n",
       "      <td>15.000526</td>\n",
       "      <td>546.631579</td>\n",
       "      <td>3972.631579</td>\n",
       "      <td>28.894737</td>\n",
       "      <td>0.0</td>\n",
       "      <td>0.0</td>\n",
       "      <td>0.0</td>\n",
       "      <td>35.473684</td>\n",
       "      <td>0.718711</td>\n",
       "      <td>0.368421</td>\n",
       "      <td>0.631579</td>\n",
       "    </tr>\n",
       "    <tr>\n",
       "      <th>2015-01-02</th>\n",
       "      <td>NaN</td>\n",
       "      <td>NaN</td>\n",
       "      <td>NaN</td>\n",
       "      <td>NaN</td>\n",
       "      <td>NaN</td>\n",
       "      <td>NaN</td>\n",
       "      <td>NaN</td>\n",
       "      <td>NaN</td>\n",
       "      <td>NaN</td>\n",
       "      <td>NaN</td>\n",
       "      <td>NaN</td>\n",
       "      <td>NaN</td>\n",
       "      <td>NaN</td>\n",
       "      <td>NaN</td>\n",
       "      <td>NaN</td>\n",
       "    </tr>\n",
       "  </tbody>\n",
       "</table>\n",
       "</div>"
      ],
      "text/plain": [
       "            quarter  day      team  targeted_productivity        smv  \\\n",
       "date                                                                   \n",
       "2015-01-01      1.0  3.0  6.368421               0.752632  15.000526   \n",
       "2015-01-02      NaN  NaN       NaN                    NaN        NaN   \n",
       "\n",
       "                   wip    over_time  incentive  idle_time  idle_men  \\\n",
       "date                                                                  \n",
       "2015-01-01  546.631579  3972.631579  28.894737        0.0       0.0   \n",
       "2015-01-02         NaN          NaN        NaN        NaN       NaN   \n",
       "\n",
       "            no_of_style_change  no_of_workers  actual_productivity  \\\n",
       "date                                                                 \n",
       "2015-01-01                 0.0      35.473684             0.718711   \n",
       "2015-01-02                 NaN            NaN                  NaN   \n",
       "\n",
       "            dept_finishing  dept_sweing  \n",
       "date                                     \n",
       "2015-01-01        0.368421     0.631579  \n",
       "2015-01-02             NaN          NaN  "
      ]
     },
     "execution_count": 27,
     "metadata": {},
     "output_type": "execute_result"
    }
   ],
   "source": [
    "df_day_mean.head(2)"
   ]
  },
  {
   "cell_type": "markdown",
   "id": "15fe5103-a40a-4174-8266-e1bd4c1624d0",
   "metadata": {},
   "source": [
    "The date 2015-01-02 has NAN values throughout because there is no data collected for Fridays and hence this day will be dropped and then the dataframe will be updated with customfrequency for the day. "
   ]
  },
  {
   "cell_type": "code",
   "execution_count": 28,
   "id": "4a5bc7dd-cab7-4cc0-b8fc-4e2a26f16a5b",
   "metadata": {
    "scrolled": true
   },
   "outputs": [],
   "source": [
    "from pandas.tseries.offsets import CustomBusinessDay\n",
    "custom_freq = CustomBusinessDay(weekmask='Mon Tue Wed Thu Sat Sun')"
   ]
  },
  {
   "cell_type": "code",
   "execution_count": 29,
   "id": "0a86d4ac-72c3-486e-a69a-8ccef6d721c4",
   "metadata": {},
   "outputs": [],
   "source": [
    "df_day_mean = df_day_mean[~df_day_mean.index.weekday.isin([4])]"
   ]
  },
  {
   "cell_type": "code",
   "execution_count": 30,
   "id": "a6323580-d0fe-4093-99ab-1cb43c99de11",
   "metadata": {},
   "outputs": [],
   "source": [
    "df_day_mean = df_day_mean.asfreq(custom_freq)"
   ]
  },
  {
   "cell_type": "code",
   "execution_count": 31,
   "id": "b0752855-2c9f-41fd-87c7-5ad3cd3502bb",
   "metadata": {},
   "outputs": [
    {
     "data": {
      "text/plain": [
       "DatetimeIndex(['2015-01-01', '2015-01-03', '2015-01-04', '2015-01-05',\n",
       "               '2015-01-06', '2015-01-07', '2015-01-08', '2015-01-10',\n",
       "               '2015-01-11', '2015-01-12', '2015-01-13', '2015-01-14',\n",
       "               '2015-01-15', '2015-01-17', '2015-01-18', '2015-01-19',\n",
       "               '2015-01-20', '2015-01-21', '2015-01-22', '2015-01-24',\n",
       "               '2015-01-25', '2015-01-26', '2015-01-27', '2015-01-28',\n",
       "               '2015-01-29', '2015-01-31', '2015-02-01', '2015-02-02',\n",
       "               '2015-02-03', '2015-02-04', '2015-02-05', '2015-02-07',\n",
       "               '2015-02-08', '2015-02-09', '2015-02-10', '2015-02-11',\n",
       "               '2015-02-12', '2015-02-14', '2015-02-15', '2015-02-16',\n",
       "               '2015-02-17', '2015-02-18', '2015-02-19', '2015-02-21',\n",
       "               '2015-02-22', '2015-02-23', '2015-02-24', '2015-02-25',\n",
       "               '2015-02-26', '2015-02-28', '2015-03-01', '2015-03-02',\n",
       "               '2015-03-03', '2015-03-04', '2015-03-05', '2015-03-07',\n",
       "               '2015-03-08', '2015-03-09', '2015-03-10', '2015-03-11'],\n",
       "              dtype='datetime64[ns]', name='date', freq='C')"
      ]
     },
     "execution_count": 31,
     "metadata": {},
     "output_type": "execute_result"
    }
   ],
   "source": [
    "df_day_mean.index"
   ]
  },
  {
   "cell_type": "markdown",
   "id": "e1ac3c89-476e-4568-90c5-481eb9b49dc3",
   "metadata": {},
   "source": [
    "one more day is missing data and that is `2015-02-21` which happen to be saturday. It is possible that this data was missing in the dataset. However, i will fillforward this missing value from the previous day. "
   ]
  },
  {
   "cell_type": "code",
   "execution_count": 32,
   "id": "d2e2c330-4a1e-4392-bc73-c4b875691b7c",
   "metadata": {},
   "outputs": [
    {
     "data": {
      "text/plain": [
       "quarter                 NaN\n",
       "day                     NaN\n",
       "team                    NaN\n",
       "targeted_productivity   NaN\n",
       "smv                     NaN\n",
       "wip                     NaN\n",
       "over_time               NaN\n",
       "incentive               NaN\n",
       "idle_time               NaN\n",
       "idle_men                NaN\n",
       "no_of_style_change      NaN\n",
       "no_of_workers           NaN\n",
       "actual_productivity     NaN\n",
       "dept_finishing          NaN\n",
       "dept_sweing             NaN\n",
       "Name: 2015-02-21 00:00:00, dtype: float64"
      ]
     },
     "execution_count": 32,
     "metadata": {},
     "output_type": "execute_result"
    }
   ],
   "source": [
    "df_day_mean.loc['2015-02-21']"
   ]
  },
  {
   "cell_type": "code",
   "execution_count": 33,
   "id": "7e4af4dc-0d9f-4884-b0fd-cc1c28f5dd64",
   "metadata": {},
   "outputs": [
    {
     "data": {
      "text/plain": [
       "quarter                     3.000000\n",
       "day                         3.000000\n",
       "team                        6.400000\n",
       "targeted_productivity       0.737500\n",
       "smv                        16.210000\n",
       "wip                       486.950000\n",
       "over_time                3651.000000\n",
       "incentive                  19.650000\n",
       "idle_time                   0.425000\n",
       "idle_men                    1.750000\n",
       "no_of_style_change          0.500000\n",
       "no_of_workers              35.900000\n",
       "actual_productivity         0.689016\n",
       "dept_finishing              0.400000\n",
       "dept_sweing                 0.600000\n",
       "Name: 2015-02-21 00:00:00, dtype: float64"
      ]
     },
     "execution_count": 33,
     "metadata": {},
     "output_type": "execute_result"
    }
   ],
   "source": [
    "df_day_mean.ffill(inplace=True)\n",
    "df_day_mean.loc['2015-02-21']"
   ]
  },
  {
   "cell_type": "code",
   "execution_count": 34,
   "id": "3abed3ce-b801-41ea-8dea-aa3d02565dad",
   "metadata": {},
   "outputs": [
    {
     "data": {
      "text/html": [
       "<div>\n",
       "<style scoped>\n",
       "    .dataframe tbody tr th:only-of-type {\n",
       "        vertical-align: middle;\n",
       "    }\n",
       "\n",
       "    .dataframe tbody tr th {\n",
       "        vertical-align: top;\n",
       "    }\n",
       "\n",
       "    .dataframe thead th {\n",
       "        text-align: right;\n",
       "    }\n",
       "</style>\n",
       "<table border=\"1\" class=\"dataframe\">\n",
       "  <thead>\n",
       "    <tr style=\"text-align: right;\">\n",
       "      <th></th>\n",
       "      <th>quarter</th>\n",
       "      <th>day</th>\n",
       "      <th>team</th>\n",
       "      <th>targeted_productivity</th>\n",
       "      <th>smv</th>\n",
       "      <th>wip</th>\n",
       "      <th>over_time</th>\n",
       "      <th>incentive</th>\n",
       "      <th>idle_time</th>\n",
       "      <th>idle_men</th>\n",
       "      <th>no_of_style_change</th>\n",
       "      <th>no_of_workers</th>\n",
       "      <th>actual_productivity</th>\n",
       "      <th>dept_finishing</th>\n",
       "      <th>dept_sweing</th>\n",
       "    </tr>\n",
       "    <tr>\n",
       "      <th>date</th>\n",
       "      <th></th>\n",
       "      <th></th>\n",
       "      <th></th>\n",
       "      <th></th>\n",
       "      <th></th>\n",
       "      <th></th>\n",
       "      <th></th>\n",
       "      <th></th>\n",
       "      <th></th>\n",
       "      <th></th>\n",
       "      <th></th>\n",
       "      <th></th>\n",
       "      <th></th>\n",
       "      <th></th>\n",
       "      <th></th>\n",
       "    </tr>\n",
       "  </thead>\n",
       "  <tbody>\n",
       "    <tr>\n",
       "      <th>2015-01-01</th>\n",
       "      <td>1.0</td>\n",
       "      <td>3.0</td>\n",
       "      <td>6.368421</td>\n",
       "      <td>0.752632</td>\n",
       "      <td>15.000526</td>\n",
       "      <td>546.631579</td>\n",
       "      <td>3972.631579</td>\n",
       "      <td>28.894737</td>\n",
       "      <td>0.0</td>\n",
       "      <td>0.0</td>\n",
       "      <td>0.0</td>\n",
       "      <td>35.473684</td>\n",
       "      <td>0.718711</td>\n",
       "      <td>0.368421</td>\n",
       "      <td>0.631579</td>\n",
       "    </tr>\n",
       "    <tr>\n",
       "      <th>2015-01-03</th>\n",
       "      <td>1.0</td>\n",
       "      <td>5.0</td>\n",
       "      <td>6.333333</td>\n",
       "      <td>0.776190</td>\n",
       "      <td>14.698571</td>\n",
       "      <td>519.714286</td>\n",
       "      <td>5140.000000</td>\n",
       "      <td>25.809524</td>\n",
       "      <td>0.0</td>\n",
       "      <td>0.0</td>\n",
       "      <td>0.0</td>\n",
       "      <td>34.357143</td>\n",
       "      <td>0.802773</td>\n",
       "      <td>0.428571</td>\n",
       "      <td>0.571429</td>\n",
       "    </tr>\n",
       "  </tbody>\n",
       "</table>\n",
       "</div>"
      ],
      "text/plain": [
       "            quarter  day      team  targeted_productivity        smv  \\\n",
       "date                                                                   \n",
       "2015-01-01      1.0  3.0  6.368421               0.752632  15.000526   \n",
       "2015-01-03      1.0  5.0  6.333333               0.776190  14.698571   \n",
       "\n",
       "                   wip    over_time  incentive  idle_time  idle_men  \\\n",
       "date                                                                  \n",
       "2015-01-01  546.631579  3972.631579  28.894737        0.0       0.0   \n",
       "2015-01-03  519.714286  5140.000000  25.809524        0.0       0.0   \n",
       "\n",
       "            no_of_style_change  no_of_workers  actual_productivity  \\\n",
       "date                                                                 \n",
       "2015-01-01                 0.0      35.473684             0.718711   \n",
       "2015-01-03                 0.0      34.357143             0.802773   \n",
       "\n",
       "            dept_finishing  dept_sweing  \n",
       "date                                     \n",
       "2015-01-01        0.368421     0.631579  \n",
       "2015-01-03        0.428571     0.571429  "
      ]
     },
     "execution_count": 34,
     "metadata": {},
     "output_type": "execute_result"
    }
   ],
   "source": [
    "df_day_mean.head(2)"
   ]
  },
  {
   "cell_type": "markdown",
   "id": "15792cf5-d22a-4f39-9417-e256fd7b9bb7",
   "metadata": {},
   "source": [
    "one thing to observe in the data is that because the data has been resampled, some of the columns have lost their meaning because they have been averaged. I will work with columns that still retained their meaning in the dataset."
   ]
  },
  {
   "cell_type": "code",
   "execution_count": 35,
   "id": "deb2b737-279d-4904-94c0-180b25a2443f",
   "metadata": {},
   "outputs": [
    {
     "data": {
      "text/plain": [
       "(60, 15)"
      ]
     },
     "execution_count": 35,
     "metadata": {},
     "output_type": "execute_result"
    }
   ],
   "source": [
    "df_day_mean.shape"
   ]
  },
  {
   "cell_type": "code",
   "execution_count": 36,
   "id": "edc306c4-34d6-4278-80ba-2c921627d226",
   "metadata": {},
   "outputs": [],
   "source": [
    "y = df_day_mean.pop('actual_productivity')\n",
    "X = df_day_mean.drop(['team', 'dept_finishing', 'dept_sweing'], axis=1)"
   ]
  },
  {
   "cell_type": "code",
   "execution_count": 37,
   "id": "4977c613-0d26-4eb8-b3a2-5b1d6aba57e9",
   "metadata": {},
   "outputs": [
    {
     "data": {
      "image/png": "[encoded data removed]",
      "text/plain": [
       "<Figure size 400x300 with 1 Axes>"
      ]
     },
     "metadata": {},
     "output_type": "display_data"
    }
   ],
   "source": [
    "_ = plt.figure(figsize=(4, 3), layout='constrained')\n",
    "ax = plt.subplot()\n",
    "sns.histplot(y, ax=ax, kde=True)\n",
    "ax.set(ylabel='', \n",
    "       title='Garment Productivity',\n",
    "       yticks=(np.arange(0, 15, 3))\n",
    "      )\n",
    "plt.show()"
   ]
  },
  {
   "cell_type": "markdown",
   "id": "74d48f12-a1a6-49ca-9fe0-ad9956f10be6",
   "metadata": {
    "scrolled": true
   },
   "source": [
    "#### Computing correlations"
   ]
  },
  {
   "cell_type": "code",
   "execution_count": 38,
   "id": "ef61d5cb-797d-4f30-82db-3eb432e01762",
   "metadata": {},
   "outputs": [],
   "source": [
    "import statsmodels.api as sm\n",
    "from sklearn.metrics import (mean_absolute_error, root_mean_squared_error) "
   ]
  },
  {
   "cell_type": "code",
   "execution_count": 39,
   "id": "5f8e0a96-bf36-4a8d-b4fc-2083ec9d98d4",
   "metadata": {},
   "outputs": [
    {
     "data": {
      "image/png": "[encoded data removed]",
      "text/plain": [
       "<Figure size 1200x600 with 2 Axes>"
      ]
     },
     "metadata": {},
     "output_type": "display_data"
    }
   ],
   "source": [
    "### autocorrelation and passive autocorrelation\n",
    "_, (ax0, ax1) = plt.subplots(2, 1, figsize=(12, 6),sharex=True)\n",
    "sm.graphics.tsa.plot_acf(y, ax=ax0)\n",
    "ax0.set(title='autocorrelation',)\n",
    "ax0.tick_params(axis='x', which='major', length=0, labelbottom=False)\n",
    "\n",
    "sm.graphics.tsa.plot_pacf(y, ax=ax1)\n",
    "ax1.set(title='passive autocorrelation')\n",
    "\n",
    "plt.show()\n"
   ]
  },
  {
   "cell_type": "code",
   "execution_count": 40,
   "id": "6e628af3-0064-488f-87ad-ee538f04b35a",
   "metadata": {},
   "outputs": [],
   "source": [
    "y_lags = pd.DataFrame(y)\n",
    "y_lags['lag1'] = y_lags.shift(1)\n",
    "y_lags.dropna(inplace=True)\n",
    "y_lags = y_lags.astype('float')"
   ]
  },
  {
   "cell_type": "code",
   "execution_count": 41,
   "id": "d40226ed-7589-4bca-b465-efb9709fd179",
   "metadata": {},
   "outputs": [
    {
     "data": {
      "image/png": "[encoded data removed]",
      "text/plain": [
       "<Figure size 600x400 with 1 Axes>"
      ]
     },
     "metadata": {},
     "output_type": "display_data"
    }
   ],
   "source": [
    "plt.figure(figsize=(6,4))\n",
    "sns.regplot(data=y_lags, x='lag1', y='actual_productivity')\n",
    "plt.title('lag_1 of actual_productivity')\n",
    "plt.show()"
   ]
  },
  {
   "cell_type": "code",
   "execution_count": 42,
   "id": "f772319d-7f83-42e1-8eec-2be5e4b821c6",
   "metadata": {},
   "outputs": [
    {
     "data": {
      "image/png": "[encoded data removed]",
      "text/plain": [
       "<Figure size 640x480 with 4 Axes>"
      ]
     },
     "metadata": {},
     "output_type": "display_data"
    }
   ],
   "source": [
    "### SEASONAL DECOMPOSITION\n",
    "from statsmodels.tsa.seasonal import seasonal_decompose\n",
    "\n",
    "y_decompose = seasonal_decompose(y, model='additive', period=6)\n",
    "\n",
    "\n",
    "y_decompose.plot()\n",
    "plt.tight_layout()\n",
    "plt.tick_params(axis='x', labelrotation=30.0)\n",
    "plt.show()"
   ]
  },
  {
   "cell_type": "code",
   "execution_count": 43,
   "id": "a3f6a9d0-7176-4a59-8758-69b7f1e3222c",
   "metadata": {},
   "outputs": [
    {
     "data": {
      "text/html": [
       "<div>\n",
       "<style scoped>\n",
       "    .dataframe tbody tr th:only-of-type {\n",
       "        vertical-align: middle;\n",
       "    }\n",
       "\n",
       "    .dataframe tbody tr th {\n",
       "        vertical-align: top;\n",
       "    }\n",
       "\n",
       "    .dataframe thead th {\n",
       "        text-align: right;\n",
       "    }\n",
       "</style>\n",
       "<table border=\"1\" class=\"dataframe\">\n",
       "  <thead>\n",
       "    <tr style=\"text-align: right;\">\n",
       "      <th></th>\n",
       "      <th>actual_productivity</th>\n",
       "      <th>step_time</th>\n",
       "    </tr>\n",
       "    <tr>\n",
       "      <th>date</th>\n",
       "      <th></th>\n",
       "      <th></th>\n",
       "    </tr>\n",
       "  </thead>\n",
       "  <tbody>\n",
       "    <tr>\n",
       "      <th>2015-01-01</th>\n",
       "      <td>0.767219</td>\n",
       "      <td>0</td>\n",
       "    </tr>\n",
       "    <tr>\n",
       "      <th>2015-01-03</th>\n",
       "      <td>0.774421</td>\n",
       "      <td>1</td>\n",
       "    </tr>\n",
       "    <tr>\n",
       "      <th>2015-01-04</th>\n",
       "      <td>0.780639</td>\n",
       "      <td>2</td>\n",
       "    </tr>\n",
       "    <tr>\n",
       "      <th>2015-01-05</th>\n",
       "      <td>0.778234</td>\n",
       "      <td>3</td>\n",
       "    </tr>\n",
       "    <tr>\n",
       "      <th>2015-01-06</th>\n",
       "      <td>0.785171</td>\n",
       "      <td>4</td>\n",
       "    </tr>\n",
       "  </tbody>\n",
       "</table>\n",
       "</div>"
      ],
      "text/plain": [
       "            actual_productivity  step_time\n",
       "date                                      \n",
       "2015-01-01             0.767219          0\n",
       "2015-01-03             0.774421          1\n",
       "2015-01-04             0.780639          2\n",
       "2015-01-05             0.778234          3\n",
       "2015-01-06             0.785171          4"
      ]
     },
     "execution_count": 43,
     "metadata": {},
     "output_type": "execute_result"
    }
   ],
   "source": [
    "## Moving average per 6 days\n",
    "y_df = pd.DataFrame(y)\n",
    "y_moving_ave= y_df.rolling(window=6, \n",
    "                           min_periods=1, \n",
    "                           center=True\n",
    "                          ).mean()\n",
    "y_moving_ave['step_time'] = np.arange(len(y_moving_ave.index))\n",
    "y_moving_ave.head()"
   ]
  },
  {
   "cell_type": "code",
   "execution_count": 44,
   "id": "a3b997e0-f28b-4c2a-8e0c-c548d4ec1675",
   "metadata": {},
   "outputs": [
    {
     "data": {
      "image/png": "[encoded data removed]",
      "text/plain": [
       "<Figure size 640x480 with 1 Axes>"
      ]
     },
     "metadata": {},
     "output_type": "display_data"
    }
   ],
   "source": [
    "fig, ax = plt.subplots()\n",
    "sns.scatterplot(data=y_df, y='actual_productivity', x=y_moving_ave['step_time'], ax=ax, color='0.45')\n",
    "sns.lineplot(data=y_moving_ave, y='actual_productivity', x='step_time', ax=ax)\n",
    "plt.show()"
   ]
  },
  {
   "cell_type": "code",
   "execution_count": 45,
   "id": "24409d46-dba7-4e97-aee6-2a9a6ec5ec86",
   "metadata": {},
   "outputs": [],
   "source": [
    "### checking for stationary in the data\n",
    "from statsmodels.tsa.stattools import adfuller"
   ]
  },
  {
   "cell_type": "code",
   "execution_count": 46,
   "id": "736b4022-79aa-4537-a710-26ef0b0709df",
   "metadata": {},
   "outputs": [
    {
     "data": {
      "text/plain": [
       "np.float64(0.40204317679459095)"
      ]
     },
     "execution_count": 46,
     "metadata": {},
     "output_type": "execute_result"
    }
   ],
   "source": [
    "adfuller(y)[1]  ### cheking for stationary in y"
   ]
  },
  {
   "cell_type": "code",
   "execution_count": 47,
   "id": "01366937-59ff-4364-bc6d-bf6e37f6934a",
   "metadata": {},
   "outputs": [
    {
     "data": {
      "text/plain": [
       "np.float64(1.7509056480190786e-11)"
      ]
     },
     "execution_count": 47,
     "metadata": {},
     "output_type": "execute_result"
    }
   ],
   "source": [
    "#Differenceing data and testing for stationary again\n",
    "\n",
    "y_diff = y.diff(1)\n",
    "y_dff = y_diff.dropna()\n",
    "\n",
    "result = adfuller(y_dff)\n",
    "result[1]"
   ]
  },
  {
   "cell_type": "markdown",
   "id": "0c3930a7-2ce8-4d08-9278-b8ad58874979",
   "metadata": {},
   "source": [
    "### HoltWinters Exponential Smoothing"
   ]
  },
  {
   "cell_type": "code",
   "execution_count": 48,
   "id": "2b9a1644-71e7-4d25-b4dc-589a9559a14e",
   "metadata": {},
   "outputs": [
    {
     "data": {
      "text/plain": [
       "(60, 1)"
      ]
     },
     "execution_count": 48,
     "metadata": {},
     "output_type": "execute_result"
    }
   ],
   "source": [
    "### checking for y_df shape and deciding index for trainig\n",
    "y_df.shape"
   ]
  },
  {
   "cell_type": "code",
   "execution_count": 49,
   "id": "e3408956-2cf4-4610-a6aa-fcfdf8c7c812",
   "metadata": {},
   "outputs": [
    {
     "data": {
      "text/plain": [
       "(50, 1)"
      ]
     },
     "metadata": {},
     "output_type": "display_data"
    },
    {
     "data": {
      "text/plain": [
       "(6, 1)"
      ]
     },
     "metadata": {},
     "output_type": "display_data"
    }
   ],
   "source": [
    "indx = 50\n",
    "gap = 4  # Adding a 4 days gap intentionally between testing and training\n",
    "y_train, y_test = y_df[:indx], y_df[indx+4:]\n",
    "display(y_train.shape)\n",
    "display(y_test.shape)"
   ]
  },
  {
   "cell_type": "code",
   "execution_count": 50,
   "id": "a7738c25-a3ec-4a35-8a83-5bc399bf23f4",
   "metadata": {},
   "outputs": [],
   "source": [
    "from  statsmodels.tsa.holtwinters import ExponentialSmoothing"
   ]
  },
  {
   "cell_type": "code",
   "execution_count": 51,
   "id": "7caa3c4b-dfbf-4115-bbf0-fe5e71466fe2",
   "metadata": {},
   "outputs": [],
   "source": [
    "model = ExponentialSmoothing(y_train, \n",
    "                            trend='add',\n",
    "                            seasonal='add', \n",
    "                            seasonal_periods=6\n",
    "                            )\n",
    "\n",
    "exps = model.fit()                        "
   ]
  },
  {
   "cell_type": "code",
   "execution_count": 52,
   "id": "d2f7683d-4836-4276-8099-b5e561a4acec",
   "metadata": {},
   "outputs": [],
   "source": [
    "exps_pred = exps.predict(start=y_test.index[0], end=y_test.index[-1])\n",
    "\n",
    "exps_pred = pd.Series(exps_pred, index= y_test.index)"
   ]
  },
  {
   "cell_type": "code",
   "execution_count": 53,
   "id": "7c2b63ae-ee9b-43fc-a624-0360a6d68720",
   "metadata": {},
   "outputs": [],
   "source": [
    "def evaluation(y_true, y_pred, estimator):\n",
    "    mae = mean_absolute_error\n",
    "    rmse = root_mean_squared_error\n",
    "    return f\"{estimator} error \\nMAE: {mae(y_true, y_pred):.3f} \\nRMSE: {rmse(y_true, y_pred):.3f}\"\n"
   ]
  },
  {
   "cell_type": "code",
   "execution_count": 54,
   "id": "997c68e3-aa98-417d-914d-6d227a3b9bda",
   "metadata": {},
   "outputs": [
    {
     "name": "stdout",
     "output_type": "stream",
     "text": [
      "Exponential Smoothing error \n",
      "MAE: 0.093 \n",
      "RMSE: 0.095\n"
     ]
    }
   ],
   "source": [
    "print(evaluation(y_test, exps_pred, 'Exponential Smoothing'))"
   ]
  },
  {
   "cell_type": "code",
   "execution_count": 55,
   "id": "4c829863-cd88-4c22-ba55-416a36510b0e",
   "metadata": {},
   "outputs": [
    {
     "data": {
      "image/png": "[encoded data removed]",
      "text/plain": [
       "<Figure size 800x400 with 1 Axes>"
      ]
     },
     "metadata": {},
     "output_type": "display_data"
    }
   ],
   "source": [
    "fig, ax = plt.subplots(figsize=(8,4), layout='constrained')\n",
    "ax.plot(y_test, label='true y')\n",
    "ax.plot(exps_pred, label='predicted y')\n",
    "plt.legend()\n",
    "ax.set_title('Exponential smoothing prediction')\n",
    "plt.show()"
   ]
  },
  {
   "cell_type": "code",
   "execution_count": 56,
   "id": "a36d0a02-29fc-411c-b726-324a4f76e410",
   "metadata": {},
   "outputs": [
    {
     "name": "stdout",
     "output_type": "stream",
     "text": [
      "Exponetial smoothing summary\n",
      "AIC: -311.779\n",
      "BIC: -292.659\n"
     ]
    }
   ],
   "source": [
    "output = 'AIC: {0:0.3f}\\nBIC: {1:0.3F}'\n",
    "print('Exponetial smoothing summary\\n'+output.format(exps.aic, exps.bic))"
   ]
  },
  {
   "cell_type": "markdown",
   "id": "5ae66778-16fa-444d-af4e-5c9b4828ff20",
   "metadata": {},
   "source": [
    "The exponential smoothing model prediction is below the true productivity as seen from teh plot.   \n",
    "I will also model the data using other estimators to see the best performing among them. \n",
    "\n",
    "### Automatic Regression"
   ]
  },
  {
   "cell_type": "code",
   "execution_count": 57,
   "id": "1807822e-811e-4b9a-9fc7-237e27b7e4df",
   "metadata": {},
   "outputs": [],
   "source": [
    "from statsmodels.tsa.ar_model import AutoReg"
   ]
  },
  {
   "cell_type": "code",
   "execution_count": 58,
   "id": "18ec29a8-0fcf-461a-9f72-1dd1c03c7aca",
   "metadata": {},
   "outputs": [
    {
     "data": {
      "text/html": [
       "<div>\n",
       "<style scoped>\n",
       "    .dataframe tbody tr th:only-of-type {\n",
       "        vertical-align: middle;\n",
       "    }\n",
       "\n",
       "    .dataframe tbody tr th {\n",
       "        vertical-align: top;\n",
       "    }\n",
       "\n",
       "    .dataframe thead th {\n",
       "        text-align: right;\n",
       "    }\n",
       "</style>\n",
       "<table border=\"1\" class=\"dataframe\">\n",
       "  <thead>\n",
       "    <tr style=\"text-align: right;\">\n",
       "      <th></th>\n",
       "      <th>quarter</th>\n",
       "      <th>day</th>\n",
       "      <th>targeted_productivity</th>\n",
       "      <th>smv</th>\n",
       "      <th>wip</th>\n",
       "      <th>over_time</th>\n",
       "      <th>incentive</th>\n",
       "      <th>idle_time</th>\n",
       "      <th>idle_men</th>\n",
       "      <th>no_of_style_change</th>\n",
       "      <th>no_of_workers</th>\n",
       "    </tr>\n",
       "    <tr>\n",
       "      <th>date</th>\n",
       "      <th></th>\n",
       "      <th></th>\n",
       "      <th></th>\n",
       "      <th></th>\n",
       "      <th></th>\n",
       "      <th></th>\n",
       "      <th></th>\n",
       "      <th></th>\n",
       "      <th></th>\n",
       "      <th></th>\n",
       "      <th></th>\n",
       "    </tr>\n",
       "  </thead>\n",
       "  <tbody>\n",
       "    <tr>\n",
       "      <th>2015-01-01</th>\n",
       "      <td>1.0</td>\n",
       "      <td>3.0</td>\n",
       "      <td>0.752632</td>\n",
       "      <td>15.000526</td>\n",
       "      <td>546.631579</td>\n",
       "      <td>3972.631579</td>\n",
       "      <td>28.894737</td>\n",
       "      <td>0.0</td>\n",
       "      <td>0.0</td>\n",
       "      <td>0.0</td>\n",
       "      <td>35.473684</td>\n",
       "    </tr>\n",
       "    <tr>\n",
       "      <th>2015-01-03</th>\n",
       "      <td>1.0</td>\n",
       "      <td>5.0</td>\n",
       "      <td>0.776190</td>\n",
       "      <td>14.698571</td>\n",
       "      <td>519.714286</td>\n",
       "      <td>5140.000000</td>\n",
       "      <td>25.809524</td>\n",
       "      <td>0.0</td>\n",
       "      <td>0.0</td>\n",
       "      <td>0.0</td>\n",
       "      <td>34.357143</td>\n",
       "    </tr>\n",
       "    <tr>\n",
       "      <th>2015-01-04</th>\n",
       "      <td>1.0</td>\n",
       "      <td>6.0</td>\n",
       "      <td>0.776190</td>\n",
       "      <td>15.725238</td>\n",
       "      <td>539.285714</td>\n",
       "      <td>4667.142857</td>\n",
       "      <td>27.809524</td>\n",
       "      <td>0.0</td>\n",
       "      <td>0.0</td>\n",
       "      <td>0.0</td>\n",
       "      <td>34.404762</td>\n",
       "    </tr>\n",
       "  </tbody>\n",
       "</table>\n",
       "</div>"
      ],
      "text/plain": [
       "            quarter  day  targeted_productivity        smv         wip  \\\n",
       "date                                                                     \n",
       "2015-01-01      1.0  3.0               0.752632  15.000526  546.631579   \n",
       "2015-01-03      1.0  5.0               0.776190  14.698571  519.714286   \n",
       "2015-01-04      1.0  6.0               0.776190  15.725238  539.285714   \n",
       "\n",
       "              over_time  incentive  idle_time  idle_men  no_of_style_change  \\\n",
       "date                                                                          \n",
       "2015-01-01  3972.631579  28.894737        0.0       0.0                 0.0   \n",
       "2015-01-03  5140.000000  25.809524        0.0       0.0                 0.0   \n",
       "2015-01-04  4667.142857  27.809524        0.0       0.0                 0.0   \n",
       "\n",
       "            no_of_workers  \n",
       "date                       \n",
       "2015-01-01      35.473684  \n",
       "2015-01-03      34.357143  \n",
       "2015-01-04      34.404762  "
      ]
     },
     "execution_count": 58,
     "metadata": {},
     "output_type": "execute_result"
    }
   ],
   "source": [
    "### creating exogenous variables for y_train and test\n",
    "X.head(3)"
   ]
  },
  {
   "cell_type": "code",
   "execution_count": 59,
   "id": "88ee40fe-60f6-47da-9ad4-11a6296c437a",
   "metadata": {},
   "outputs": [
    {
     "data": {
      "text/plain": [
       "(54, 1)"
      ]
     },
     "metadata": {},
     "output_type": "display_data"
    },
    {
     "data": {
      "text/plain": [
       "(6, 1)"
      ]
     },
     "metadata": {},
     "output_type": "display_data"
    },
    {
     "data": {
      "text/plain": [
       "(54, 11)"
      ]
     },
     "metadata": {},
     "output_type": "display_data"
    },
    {
     "data": {
      "text/plain": [
       "(6, 11)"
      ]
     },
     "metadata": {},
     "output_type": "display_data"
    }
   ],
   "source": [
    "## Scalling the exogenous variables\n",
    "# although this is not a necessary requirement for this modeling, the scale of the variables are very disproportionate\n",
    "## therefore the scaling the regressors will minimize the inbalance of scale of variables likely to be introduced to the model\n",
    "\n",
    "from sklearn.preprocessing import MinMaxScaler\n",
    "scaler = MinMaxScaler()\n",
    "\n",
    "## spliting the data as was done for y but without gap due to forecast method of AutoReg\n",
    "indx = 54\n",
    "\n",
    "y_train, y_test = y_df[:indx], y_df[indx:]\n",
    "display(y_train.shape)\n",
    "display(y_test.shape)\n",
    "\n",
    "X_train, X_test = X[:indx], X[indx:]\n",
    "display(X_train.shape)\n",
    "display(X_test.shape)\n",
    "\n",
    "X_scaled_train = scaler.fit_transform(X_train)\n",
    "X_scaled_test = scaler.transform(X_test)"
   ]
  },
  {
   "cell_type": "code",
   "execution_count": 60,
   "id": "ba6d4cf2-f2f9-4b29-b42f-eb640231b650",
   "metadata": {},
   "outputs": [],
   "source": [
    "model = AutoReg(endog=y_train, \n",
    "             lags=[1, 2, 3 ], \n",
    "             trend='t', \n",
    "             exog=X_scaled_train, \n",
    "            )\n",
    "ar_model = model.fit()"
   ]
  },
  {
   "cell_type": "code",
   "execution_count": 61,
   "id": "b0957d0c-c806-4503-a77c-e90fb43052b6",
   "metadata": {},
   "outputs": [
    {
     "name": "stdout",
     "output_type": "stream",
     "text": [
      "aUtomatic regression summary\n",
      "AIC: -194.063\n",
      "BIC: -163.154\n"
     ]
    }
   ],
   "source": [
    "output = 'AIC: {0:0.3f}\\nBIC: {1:0.3F}'\n",
    "print('aUtomatic regression summary\\n'+output.format(ar_model.aic, ar_model.bic))"
   ]
  },
  {
   "cell_type": "code",
   "execution_count": 62,
   "id": "afa72811-2bcc-46b7-b84d-674b64d0a8f6",
   "metadata": {},
   "outputs": [
    {
     "data": {
      "text/plain": [
       "date\n",
       "2015-03-05    0.733793\n",
       "2015-03-07    0.691690\n",
       "2015-03-08    0.701289\n",
       "2015-03-09    1.694282\n",
       "2015-03-10    1.192986\n",
       "2015-03-11    1.125230\n",
       "Freq: C, dtype: float64"
      ]
     },
     "execution_count": 62,
     "metadata": {},
     "output_type": "execute_result"
    }
   ],
   "source": [
    "ar_pred = ar_model.forecast(len(y_test),exog=X_scaled_test)\n",
    "\n",
    "ar_pred = pd.Series(ar_pred, index=y_test.index)  \n",
    "ar_pred"
   ]
  },
  {
   "cell_type": "code",
   "execution_count": 63,
   "id": "dfaab055-2b43-4ac4-b38c-9cbca7d4e19e",
   "metadata": {},
   "outputs": [
    {
     "name": "stdout",
     "output_type": "stream",
     "text": [
      "Automatic regression error \n",
      "MAE: 0.310 \n",
      "RMSE: 0.463\n"
     ]
    }
   ],
   "source": [
    "print(evaluation(y_test, ar_pred, 'Automatic regression'))"
   ]
  },
  {
   "cell_type": "code",
   "execution_count": 64,
   "id": "8ff4949a-2ee5-458f-91e2-d3d937181eed",
   "metadata": {},
   "outputs": [
    {
     "data": {
      "image/png": "[encoded data removed]",
      "text/plain": [
       "<Figure size 800x400 with 1 Axes>"
      ]
     },
     "metadata": {},
     "output_type": "display_data"
    }
   ],
   "source": [
    "fig, ax = plt.subplots(figsize=(8,4), layout='constrained')\n",
    "ax.plot(y_test, label='true y')\n",
    "ax.plot(ar_pred, label='predicted y')\n",
    "plt.legend()\n",
    "ax.set_title('automatic regression prediction')\n",
    "plt.show()"
   ]
  },
  {
   "cell_type": "markdown",
   "id": "786c08c2-a506-4cae-a26d-50cc7f4a38a2",
   "metadata": {},
   "source": [
    "#\n",
    "The automatic regression prediction has not performed as expected and has failed to capture the trend.  \n",
    "\n",
    "### Autoregressive distributed lags"
   ]
  },
  {
   "cell_type": "code",
   "execution_count": 65,
   "id": "5b1cff64-209b-4800-aacb-8cb535086485",
   "metadata": {},
   "outputs": [],
   "source": [
    "from statsmodels.tsa.ardl import ARDL"
   ]
  },
  {
   "cell_type": "code",
   "execution_count": 66,
   "id": "3ec87d94-749f-4950-a95b-47f5d8aa6204",
   "metadata": {},
   "outputs": [],
   "source": [
    "## Using the same parameters for autoregression \n",
    "model3 = ARDL(endog=y_train, \n",
    "              exog=X_scaled_train,\n",
    "              lags=[1, 3, 4,],\n",
    "              order= 1,\n",
    "              trend='t' \n",
    "             )\n",
    "ardl = model3.fit()"
   ]
  },
  {
   "cell_type": "code",
   "execution_count": 67,
   "id": "450a736a-ac68-41c3-a00a-028877e76f76",
   "metadata": {},
   "outputs": [
    {
     "name": "stdout",
     "output_type": "stream",
     "text": [
      "ARDL summary\n",
      "AIC: -179.303\n",
      "BIC: -127.678\n"
     ]
    }
   ],
   "source": [
    "output = 'AIC: {0:0.3f}\\nBIC: {1:0.3F}'\n",
    "print('ARDL summary\\n'+output.format(ardl.aic, ardl.bic))"
   ]
  },
  {
   "cell_type": "code",
   "execution_count": 68,
   "id": "861cb890-dd92-47d6-a35d-347880bcc99a",
   "metadata": {},
   "outputs": [
    {
     "data": {
      "text/plain": [
       "date\n",
       "2015-03-05    0.731315\n",
       "2015-03-07    0.689975\n",
       "2015-03-08    0.722895\n",
       "2015-03-09    2.726931\n",
       "2015-03-10    1.569117\n",
       "2015-03-11    1.166712\n",
       "Freq: C, dtype: float64"
      ]
     },
     "execution_count": 68,
     "metadata": {},
     "output_type": "execute_result"
    }
   ],
   "source": [
    "ardl_pred = ardl.forecast(len(y_test),exog=X_scaled_test)\n",
    "\n",
    "ardl_pred = pd.Series(ardl_pred, index=y_test.index)  \n",
    "ardl_pred"
   ]
  },
  {
   "cell_type": "code",
   "execution_count": 69,
   "id": "b845e28c-0472-4c3a-8fe0-594b64cbdee0",
   "metadata": {},
   "outputs": [
    {
     "name": "stdout",
     "output_type": "stream",
     "text": [
      "Autoregressive distributed lags error \n",
      "MAE: 0.548 \n",
      "RMSE: 0.899\n"
     ]
    }
   ],
   "source": [
    "print(evaluation(y_test, ardl_pred, 'Autoregressive distributed lags'))"
   ]
  },
  {
   "cell_type": "code",
   "execution_count": 70,
   "id": "ca1bb43f-62d1-421f-9ab4-392995899ad1",
   "metadata": {},
   "outputs": [
    {
     "data": {
      "image/png": "[encoded data removed]",
      "text/plain": [
       "<Figure size 800x400 with 1 Axes>"
      ]
     },
     "metadata": {},
     "output_type": "display_data"
    }
   ],
   "source": [
    "fig, ax = plt.subplots(figsize=(8,4), layout='constrained')\n",
    "ax.plot(y_test, label='true y')\n",
    "ax.plot(ardl_pred, label='predicted y')\n",
    "plt.legend()\n",
    "ax.set_title('ARDL prediction')\n",
    "plt.show()"
   ]
  },
  {
   "cell_type": "code",
   "execution_count": 71,
   "id": "c57cee58-2472-46e6-a635-27cfbae4edb8",
   "metadata": {},
   "outputs": [
    {
     "name": "stdout",
     "output_type": "stream",
     "text": [
      "ARDL2 summary\n",
      "AIC: -156.468\n",
      "BIC: -143.822\n"
     ]
    }
   ],
   "source": [
    "model4 = ARDL(endog=y_train, \n",
    "              lags=[1,3, 4, 8, 9],\n",
    "              trend='t' \n",
    "             )\n",
    "ardl2 = model4.fit()\n",
    "output = 'AIC: {0:0.3f}\\nBIC: {1:0.3F}'\n",
    "print('ARDL2 summary\\n'+output.format(ardl2.aic, ardl2.bic))"
   ]
  },
  {
   "cell_type": "code",
   "execution_count": 72,
   "id": "2a6db444-e564-4d7d-9b9f-25943341776f",
   "metadata": {},
   "outputs": [
    {
     "data": {
      "text/plain": [
       "date\n",
       "2015-03-05    0.702709\n",
       "2015-03-07    0.702556\n",
       "2015-03-08    0.711629\n",
       "2015-03-09    0.716014\n",
       "2015-03-10    0.708489\n",
       "2015-03-11    0.694256\n",
       "Freq: C, dtype: float64"
      ]
     },
     "execution_count": 72,
     "metadata": {},
     "output_type": "execute_result"
    }
   ],
   "source": [
    "ardl_pred2 = ardl2.forecast(len(y_test))\n",
    "\n",
    "ardl_pred2 = pd.Series(ardl_pred2, index=y_test.index)  \n",
    "ardl_pred2"
   ]
  },
  {
   "cell_type": "code",
   "execution_count": 73,
   "id": "297e2141-9ad2-4679-ba71-ee1d14873d8a",
   "metadata": {},
   "outputs": [
    {
     "name": "stdout",
     "output_type": "stream",
     "text": [
      "ARDL 2 error \n",
      "MAE: 0.026 \n",
      "RMSE: 0.029\n"
     ]
    }
   ],
   "source": [
    "print(evaluation(y_test, ardl_pred2, 'ARDL 2'))"
   ]
  },
  {
   "cell_type": "code",
   "execution_count": 74,
   "id": "7cb0b303-7567-4712-bf48-dba21b2cc865",
   "metadata": {},
   "outputs": [
    {
     "data": {
      "image/png": "[encoded data removed]",
      "text/plain": [
       "<Figure size 800x400 with 1 Axes>"
      ]
     },
     "metadata": {},
     "output_type": "display_data"
    }
   ],
   "source": [
    "fig, ax = plt.subplots(figsize=(8,4), layout='constrained')\n",
    "ax.plot(y_test, label='true y')\n",
    "ax.plot(ardl_pred2, label='predicted y')\n",
    "plt.legend()\n",
    "ax.set_title('ARDL2 prediction')\n",
    "plt.show()"
   ]
  },
  {
   "cell_type": "markdown",
   "id": "a98e00f8-99f1-4de9-9165-eb9a66dab5e8",
   "metadata": {},
   "source": [
    "The autoregressive distributed lags performance did not give better predictions either during the forecast. The first ARDL which included exogenous variable and lags followed same trend as the automatic regression predictions and in the second attempt without exogenous variables, the data improved a little but still underfitted the data.\n",
    "\n",
    "### SARIMAX model"
   ]
  },
  {
   "cell_type": "code",
   "execution_count": 75,
   "id": "bb1db228-bfe0-43a6-a11d-2f495dfe37a0",
   "metadata": {},
   "outputs": [],
   "source": [
    "from statsmodels.tsa.api import SARIMAX"
   ]
  },
  {
   "cell_type": "code",
   "execution_count": 76,
   "id": "5852cd1c-4eed-47b2-9cd6-aa0fc68a10e0",
   "metadata": {},
   "outputs": [
    {
     "name": "stdout",
     "output_type": "stream",
     "text": [
      "SARIMAX summary\n",
      "AIC: -189.954\n",
      "BIC: -162.370\n"
     ]
    }
   ],
   "source": [
    "model = SARIMAX(endog = y_train, \n",
    "                exog=X_scaled_train,\n",
    "                order=(1, 1, 0), \n",
    "                seasonal_order=(0, 0, 0, 6),\n",
    "                trend='t',\n",
    "               )\n",
    "sarimax = model.fit()\n",
    "\n",
    "\n",
    "print('SARIMAX summary\\n'+output.format(sarimax.aic, sarimax.bic))"
   ]
  },
  {
   "cell_type": "code",
   "execution_count": 77,
   "id": "c5adf06c-d539-4c14-821f-6a55ca1d16dc",
   "metadata": {},
   "outputs": [
    {
     "data": {
      "text/plain": [
       "2015-03-05    0.695384\n",
       "2015-03-07    0.665314\n",
       "2015-03-08    0.682453\n",
       "2015-03-09    2.156986\n",
       "2015-03-10    0.703010\n",
       "2015-03-11    0.713498\n",
       "Freq: C, Name: predicted_mean, dtype: float64"
      ]
     },
     "execution_count": 77,
     "metadata": {},
     "output_type": "execute_result"
    }
   ],
   "source": [
    "sarimax_pred = sarimax.forecast(len(y_test), exog=X_scaled_test)\n",
    "sarimax_pred"
   ]
  },
  {
   "cell_type": "code",
   "execution_count": 78,
   "id": "58c8b609-db1c-423d-8b64-1305c2f4a8b6",
   "metadata": {},
   "outputs": [
    {
     "name": "stdout",
     "output_type": "stream",
     "text": [
      "SARIMAX error \n",
      "MAE: 0.272 \n",
      "RMSE: 0.584\n"
     ]
    }
   ],
   "source": [
    "print(evaluation(y_test, sarimax_pred, 'SARIMAX'))"
   ]
  },
  {
   "cell_type": "code",
   "execution_count": 79,
   "id": "402aac1c-148b-4c48-b7d6-77fc48ac903a",
   "metadata": {},
   "outputs": [
    {
     "data": {
      "image/png": "[encoded data removed]",
      "text/plain": [
       "<Figure size 800x400 with 1 Axes>"
      ]
     },
     "metadata": {},
     "output_type": "display_data"
    }
   ],
   "source": [
    "fig, ax = plt.subplots(figsize=(8,4), layout='constrained')\n",
    "ax.plot(y_test, label='true y')\n",
    "ax.plot(sarimax_pred, label='predicted y')\n",
    "plt.legend()\n",
    "ax.set_title('SARIMAX prediction')\n",
    "plt.show()"
   ]
  },
  {
   "cell_type": "markdown",
   "id": "d1087cb6-cc63-4c99-94e5-c408be18c295",
   "metadata": {},
   "source": [
    "## Conclusion\n",
    "\n",
    "In this simple time series prediction, i have used exponential smoothing, automatic regression, autoregressive distributed lags and SARIMAX to attempt to predict the next six days productivity of workers in the garment factory.   Overall the models have not performed well at predicting workers productivity compared to the test values although the mean absolute errors and root mean squared errors were relatively low. Based on quantitative evaluation, ARDL estimator 2 performed better than the rest of the models. The exclusion of exogenous variables and addition of more lags perhaps increased the flexibility of the model which gave rise to an improved prediction. However, methods employing regression (AutoReg, ARDL and SARIMAX) have predicted similar productivity which tends to overestimate the actual values. Perhaps because all three methods employ lag order in their model. \n",
    "\n",
    "**Next steps**\n",
    "\n",
    "In another notebook, i will explore more feature_engineering to attempt at predicting more accurately the workers productivity. Given the improved accuracy from ARDL estimator 2 with increased lag values, it will be worth exploring the autoarima method of pmdarima which will provided optimised values for an improved predicition.  I will also explore more methods like VAR, deterministicprocess and fourier transform and potentially other hybrid models for prediction"
   ]
  },
  {
   "cell_type": "code",
   "execution_count": null,
   "id": "119d4801-8e46-463c-b775-6aff85eba302",
   "metadata": {},
   "outputs": [],
   "source": []
  }
 ],
 "metadata": {
  "kernelspec": {
   "display_name": "Python 3 (ipykernel)",
   "language": "python",
   "name": "python3"
  },
  "language_info": {
   "codemirror_mode": {
    "name": "ipython",
    "version": 3
   },
   "file_extension": ".py",
   "mimetype": "text/x-python",
   "name": "python",
   "nbconvert_exporter": "python",
   "pygments_lexer": "ipython3",
   "version": "3.10.11"
  }
 },
 "nbformat": 4,
 "nbformat_minor": 5
}
